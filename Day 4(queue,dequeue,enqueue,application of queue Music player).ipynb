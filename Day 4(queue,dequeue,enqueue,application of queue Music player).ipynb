{
 "cells": [
  {
   "cell_type": "markdown",
   "metadata": {},
   "source": [
    "### Day 4"
   ]
  },
  {
   "cell_type": "markdown",
   "metadata": {},
   "source": [
    "### Queues\n",
    "###### Enqueue for insertion\n",
    "###### Dequeue for deletion"
   ]
  },
  {
   "cell_type": "code",
   "execution_count": 147,
   "metadata": {},
   "outputs": [],
   "source": [
    "class listqueue:\n",
    "    def __init__(self):\n",
    "        self.items=[]\n",
    "        self.size=0\n",
    "    def enqueue(self,data):\n",
    "        self.items.insert(0,data)\n",
    "        self.size+=1\n",
    "    def dequeue(self):\n",
    "        data=self.items.pop()\n",
    "        self.size-=1\n",
    "        return data\n",
    "    def print1(self):\n",
    "        i=0\n",
    "        while i<self.size:\n",
    "            print(self.items[i])\n",
    "            i=i+1\n",
    "            "
   ]
  },
  {
   "cell_type": "code",
   "execution_count": 148,
   "metadata": {},
   "outputs": [],
   "source": [
    "word=listqueue()\n",
    "word.enqueue(15)\n",
    "word.enqueue(5)\n",
    "word.enqueue(8)"
   ]
  },
  {
   "cell_type": "code",
   "execution_count": 149,
   "metadata": {},
   "outputs": [
    {
     "data": {
      "text/plain": [
       "15"
      ]
     },
     "execution_count": 149,
     "metadata": {},
     "output_type": "execute_result"
    }
   ],
   "source": [
    "word.dequeue()"
   ]
  },
  {
   "cell_type": "code",
   "execution_count": 150,
   "metadata": {},
   "outputs": [
    {
     "name": "stdout",
     "output_type": "stream",
     "text": [
      "8\n",
      "5\n"
     ]
    }
   ],
   "source": [
    "word.print1()"
   ]
  },
  {
   "cell_type": "markdown",
   "metadata": {},
   "source": [
    "### stack based queue"
   ]
  },
  {
   "cell_type": "code",
   "execution_count": 151,
   "metadata": {},
   "outputs": [],
   "source": [
    "class queue:\n",
    "    def __init__(self):\n",
    "        self.inbound_stack=[]\n",
    "        self.outbound_stack=[]\n",
    "        self.size=0\n",
    "    def enqueue(self,data):\n",
    "        self.inbound_stack.append(data)\n",
    "        self.size+=1\n",
    "    def dequeue(self):\n",
    "        if not self.outbound_stack :\n",
    "            while self.inbound_stack:\n",
    "                self.outbound_stack.append(self.inbound_stack.pop())\n",
    "        if len(self.outbound_stack)==0:\n",
    "            return\n",
    "        self.size-=1\n",
    "        return self.outbound_stack.pop()\n",
    "    def clear(self):\n",
    "        self.inbound_stack=[]\n",
    "        self.outbound_stack=[]\n",
    "\n",
    "        "
   ]
  },
  {
   "cell_type": "code",
   "execution_count": 152,
   "metadata": {},
   "outputs": [],
   "source": [
    "word=queue()\n",
    "word.enqueue(15)\n",
    "word.enqueue(14)\n",
    "word.enqueue(10)"
   ]
  },
  {
   "cell_type": "code",
   "execution_count": 153,
   "metadata": {},
   "outputs": [
    {
     "data": {
      "text/plain": [
       "15"
      ]
     },
     "execution_count": 153,
     "metadata": {},
     "output_type": "execute_result"
    }
   ],
   "source": [
    "word.dequeue()"
   ]
  },
  {
   "cell_type": "code",
   "execution_count": 154,
   "metadata": {},
   "outputs": [
    {
     "data": {
      "text/plain": [
       "2"
      ]
     },
     "execution_count": 154,
     "metadata": {},
     "output_type": "execute_result"
    }
   ],
   "source": [
    "word.size"
   ]
  },
  {
   "cell_type": "code",
   "execution_count": 155,
   "metadata": {},
   "outputs": [
    {
     "name": "stdout",
     "output_type": "stream",
     "text": [
      "[]\n"
     ]
    }
   ],
   "source": [
    "print(word.inbound_stack)"
   ]
  },
  {
   "cell_type": "code",
   "execution_count": 156,
   "metadata": {},
   "outputs": [
    {
     "name": "stdout",
     "output_type": "stream",
     "text": [
      "[10, 14]\n"
     ]
    }
   ],
   "source": [
    "print(word.outbound_stack)"
   ]
  },
  {
   "cell_type": "markdown",
   "metadata": {},
   "source": [
    "## Application of queue\n",
    "### Media player queue"
   ]
  },
  {
   "cell_type": "code",
   "execution_count": 157,
   "metadata": {},
   "outputs": [],
   "source": [
    "class node:\n",
    "    def __init__(self,data,next=None,prev=None):\n",
    "        self.data=data\n",
    "        self.next=next\n",
    "        self.prev=prev\n"
   ]
  },
  {
   "cell_type": "code",
   "execution_count": 158,
   "metadata": {},
   "outputs": [],
   "source": [
    "class queue(node):\n",
    "    def __init__(self):\n",
    "        super().__init__(self)\n",
    "        self.inbound_stack=[]\n",
    "        self.outbound_stack=[]\n",
    "        self.count=0\n",
    "    def enqueue(self,data):\n",
    "        self.inbound_stack.append(data)\n",
    "        self.count+=1\n",
    "    def dequeue(self):\n",
    "        if not self.outbound_stack:\n",
    "            while self.inbound_stack:\n",
    "                self.outbound_stack.append(self.inbound_stack.pop())\n",
    "        self.count-=1        \n",
    "        return self.outbound_stack.pop()\n",
    "        \n",
    "\n",
    "       "
   ]
  },
  {
   "cell_type": "code",
   "execution_count": 159,
   "metadata": {},
   "outputs": [],
   "source": [
    "from random import randint\n",
    "class Track(queue):\n",
    "    def __init__(self,title=None):\n",
    "        super().__init__()\n",
    "        self.title=title\n",
    "        self.length=randint(5,10)\n"
   ]
  },
  {
   "cell_type": "code",
   "execution_count": 160,
   "metadata": {},
   "outputs": [],
   "source": [
    "import time\n",
    "class Mediaplayerqueue(Track):\n",
    "    def __init__(self):\n",
    "        super().__init__()\n",
    "    def add_track(self,track):\n",
    "        self.enqueue(track)\n",
    "    def play(self):\n",
    "        while self.count>0:\n",
    "            current_track_node = self.dequeue()\n",
    "            print(\"Now playing {}\".format(current_track_node.data.title))\n",
    "            time.sleep(current_track_node.data.length)    \n",
    "            \n",
    "        "
   ]
  },
  {
   "cell_type": "code",
   "execution_count": 161,
   "metadata": {},
   "outputs": [],
   "source": [
    "track1 = Track(\"white whistle\")\n",
    "track2 = Track(\"butter butter\")\n",
    "track3 = Track(\"Oh black star\")\n",
    "track4 = Track(\"Watch that chicken\")\n",
    "track5 = Track(\"Don't go\")"
   ]
  },
  {
   "cell_type": "code",
   "execution_count": 162,
   "metadata": {},
   "outputs": [
    {
     "data": {
      "text/plain": [
       "5"
      ]
     },
     "execution_count": 162,
     "metadata": {},
     "output_type": "execute_result"
    }
   ],
   "source": [
    "track5.length"
   ]
  },
  {
   "cell_type": "code",
   "execution_count": 163,
   "metadata": {},
   "outputs": [],
   "source": [
    "media_player = Mediaplayerqueue()"
   ]
  },
  {
   "cell_type": "code",
   "execution_count": 164,
   "metadata": {},
   "outputs": [],
   "source": [
    "media_player.add_track(track1)"
   ]
  },
  {
   "cell_type": "code",
   "execution_count": 165,
   "metadata": {},
   "outputs": [],
   "source": [
    "media_player.add_track(track3)"
   ]
  },
  {
   "cell_type": "code",
   "execution_count": 133,
   "metadata": {},
   "outputs": [],
   "source": [
    "media_player.add_track(track2)"
   ]
  },
  {
   "cell_type": "code",
   "execution_count": 134,
   "metadata": {},
   "outputs": [],
   "source": [
    "media_player.add_track(track4)"
   ]
  },
  {
   "cell_type": "code",
   "execution_count": 166,
   "metadata": {},
   "outputs": [
    {
     "name": "stdout",
     "output_type": "stream",
     "text": [
      "Now playing white whistle\n",
      "Now playing Oh black star\n"
     ]
    }
   ],
   "source": [
    "media_player.play()"
   ]
  },
  {
   "cell_type": "markdown",
   "metadata": {},
   "source": [
    "## Inheritance "
   ]
  },
  {
   "cell_type": "code",
   "execution_count": 167,
   "metadata": {},
   "outputs": [],
   "source": [
    "class A:\n",
    "    def __init__(self):\n",
    "        print('in A')\n",
    "    def featire1(self):\n",
    "        print(1)\n",
    "class B(A):\n",
    "    def __init__(self):\n",
    "        super().__init__()\n",
    "        print('B')\n",
    "    def feature2(self):\n",
    "        print(2)\n",
    "class C(B):\n",
    "    def __init__(self):\n",
    "        super().__init__()\n",
    "\n",
    "        print(3)\n",
    "    def feature3(self):\n",
    "        print(3)\n",
    "        "
   ]
  },
  {
   "cell_type": "code",
   "execution_count": 168,
   "metadata": {},
   "outputs": [
    {
     "name": "stdout",
     "output_type": "stream",
     "text": [
      "in A\n",
      "B\n",
      "3\n"
     ]
    }
   ],
   "source": [
    "a=C()"
   ]
  }
 ],
 "metadata": {
  "kernelspec": {
   "display_name": "Python 3",
   "language": "python",
   "name": "python3"
  },
  "language_info": {
   "codemirror_mode": {
    "name": "ipython",
    "version": 3
   },
   "file_extension": ".py",
   "mimetype": "text/x-python",
   "name": "python",
   "nbconvert_exporter": "python",
   "pygments_lexer": "ipython3",
   "version": "3.7.6"
  }
 },
 "nbformat": 4,
 "nbformat_minor": 4
}
