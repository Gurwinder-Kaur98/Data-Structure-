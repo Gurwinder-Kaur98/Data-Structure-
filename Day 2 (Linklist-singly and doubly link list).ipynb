{
 "cells": [
  {
   "cell_type": "markdown",
   "metadata": {},
   "source": [
    "### Day 2"
   ]
  },
  {
   "cell_type": "markdown",
   "metadata": {},
   "source": [
    "### singly linklist"
   ]
  },
  {
   "cell_type": "code",
   "execution_count": 67,
   "metadata": {},
   "outputs": [],
   "source": [
    "                  # CREATING NODE  #\n",
    "\n",
    "class Node:                                           \n",
    "    def __init__(self,data=None):          \n",
    "        self.data=data\n",
    "        self.next=None\n",
    "   "
   ]
  },
  {
   "cell_type": "code",
   "execution_count": 83,
   "metadata": {},
   "outputs": [],
   "source": [
    "class singlylinklist:\n",
    "    def __init__(self):\n",
    "        self.tail=None# 1st node pointer\n",
    "        self.head=None # last node pointer\n",
    "        self.size=0# for counting length of list\n",
    "    def append(self,data):# worst mathod of appending\n",
    "        node=Node(data)\n",
    "        if self.tail==None:\n",
    "            self.tail=node\n",
    "        else:\n",
    "            current=self.tail\n",
    "            while current.next:\n",
    "                current=current.next\n",
    "            current.next=node\n",
    "    def print_list(self):\n",
    "        current=self.tail\n",
    "        while current:\n",
    "            print(current.data)\n",
    "            current=current.next\n",
    "    def append2(self,data): # best method of appending\n",
    "        node=Node(data)\n",
    "        if self.head:\n",
    "            self.head.next=node\n",
    "            self.head=node\n",
    "            self.size+=1\n",
    "        else:\n",
    "            self.tail=node\n",
    "            self.head=node\n",
    "            self.size+=1\n",
    "    def get_size(self): # if we do not use self.size than this function can give us the size of list\n",
    "        count=0\n",
    "        current=self.tail\n",
    "        while current:\n",
    "            count+=1\n",
    "            current=current.next\n",
    "        return count \n",
    "    def get_size2(self): # best mathod of getting length of list\n",
    "        return self.size\n",
    "    def delete(self,data):\n",
    "        current=self.tail\n",
    "        prev=self.tail\n",
    "        while current:\n",
    "            if current.data==data:\n",
    "                if current==self.tail:\n",
    "                    self.tail=current.next\n",
    "                else:\n",
    "                    prev.next=current.next\n",
    "                self.size-=1 \n",
    "                return\n",
    "            prev=current\n",
    "            current=current.next\n",
    "    def clear(self):\n",
    "        self.tail=None\n",
    "        self.head=None\n",
    "        self.size=0"
   ]
  },
  {
   "cell_type": "code",
   "execution_count": 108,
   "metadata": {},
   "outputs": [],
   "source": [
    "words=singlylinklist()\n",
    "words.append('egg')\n",
    "words.append('ham')\n",
    "words.append('spam')\n",
    "words.append('spam')\n",
    "\n",
    "words.append('spam')\n",
    "\n",
    "words.append('spam')\n",
    "\n"
   ]
  },
  {
   "cell_type": "code",
   "execution_count": 114,
   "metadata": {},
   "outputs": [
    {
     "name": "stdout",
     "output_type": "stream",
     "text": [
      "2\n",
      "3\n",
      "7\n"
     ]
    }
   ],
   "source": [
    "words.print_list()"
   ]
  },
  {
   "cell_type": "code",
   "execution_count": 110,
   "metadata": {},
   "outputs": [
    {
     "data": {
      "text/plain": [
       "6"
      ]
     },
     "execution_count": 110,
     "metadata": {},
     "output_type": "execute_result"
    }
   ],
   "source": [
    "words.get_size() # will give size according to 1st append mathod"
   ]
  },
  {
   "cell_type": "code",
   "execution_count": 111,
   "metadata": {},
   "outputs": [],
   "source": [
    "words.append2(2)\n",
    "words.append2(3)\n",
    "words.append2(7)\n",
    "words.append2(10)\n"
   ]
  },
  {
   "cell_type": "code",
   "execution_count": 112,
   "metadata": {},
   "outputs": [
    {
     "data": {
      "text/plain": [
       "4"
      ]
     },
     "execution_count": 112,
     "metadata": {},
     "output_type": "execute_result"
    }
   ],
   "source": [
    "words.get_size2()"
   ]
  },
  {
   "cell_type": "code",
   "execution_count": 113,
   "metadata": {},
   "outputs": [],
   "source": [
    "words.delete(10)"
   ]
  },
  {
   "cell_type": "code",
   "execution_count": 115,
   "metadata": {},
   "outputs": [
    {
     "name": "stdout",
     "output_type": "stream",
     "text": [
      "2\n",
      "3\n",
      "7\n"
     ]
    }
   ],
   "source": [
    "words.print_list()"
   ]
  },
  {
   "cell_type": "code",
   "execution_count": 116,
   "metadata": {},
   "outputs": [],
   "source": [
    "words.clear()"
   ]
  },
  {
   "cell_type": "markdown",
   "metadata": {},
   "source": [
    "### singly link list final"
   ]
  },
  {
   "cell_type": "code",
   "execution_count": 117,
   "metadata": {},
   "outputs": [],
   "source": [
    "class Node1:                                           \n",
    "    def __init__(self,data=None):          \n",
    "        self.data=data\n",
    "        self.next=None\n",
    "class singlylinklistfinal:\n",
    "    def __init__(self):\n",
    "        self.tail=None# 1st node pointer\n",
    "        self.head=None # last node pointer\n",
    "        self.size=0# for counting length of list\n",
    "    def append2(self,data): # best method of appending\n",
    "        node=Node(data)\n",
    "        if self.head:\n",
    "            self.head.next=node\n",
    "            self.head=node\n",
    "            self.size+=1\n",
    "        else:\n",
    "            self.tail=node\n",
    "            self.head=node\n",
    "            self.size+=1\n",
    "    def print_list(self):\n",
    "        current=self.tail\n",
    "        while current:\n",
    "            print(current.data)\n",
    "            current=current.next        \n",
    "    def get_size2(self): # give total length either append by method 1 or 2\n",
    "        return self.size\n",
    "    def delete(self,data):\n",
    "        current=self.tail\n",
    "        prev=self.tail\n",
    "        while current:\n",
    "            if current.data==data:\n",
    "                if current==self.tail:\n",
    "                    self.tail=current.next\n",
    "                else:\n",
    "                    prev.next=current.next\n",
    "                self.size-=1 \n",
    "                return\n",
    "            prev=current\n",
    "            current=current.next\n",
    "    def clear(self):\n",
    "        self.tail=None\n",
    "        self.head=None\n",
    "        self.size=0\n",
    "\n",
    "    \n",
    "        \n",
    "        "
   ]
  },
  {
   "cell_type": "markdown",
   "metadata": {},
   "source": [
    "### Doubly linklist"
   ]
  },
  {
   "cell_type": "code",
   "execution_count": 118,
   "metadata": {},
   "outputs": [],
   "source": [
    "class NODE:\n",
    "    def __init__(self,data=None,next=None,prev=None):\n",
    "        self.data=data\n",
    "        self.next=next\n",
    "        self.prev=prev\n",
    "class doublylinkedlist:\n",
    "    def __init__(self):\n",
    "        self.head=None #pointer of first node\n",
    "        self.tail=None #pointer of  last node\n",
    "        self.count=0\n",
    "    def append(self,data):\n",
    "        new_node=NODE(data,None,None)\n",
    "        if self.head is None:\n",
    "            self.head=new_node\n",
    "            self.tail=self.head\n",
    "        else:\n",
    "            new_node.prev=self.tail\n",
    "            self.tail.next=new_node\n",
    "            self.tail=new_node\n",
    "        self.count+=1  \n",
    "    def delete(self,data):\n",
    "        current=self.head\n",
    "        node_deleted=False\n",
    "        if current is None:\n",
    "            node_deleted=False\n",
    "        elif current.data==data:\n",
    "            self.head=current.next\n",
    "            self.head.prev=None\n",
    "            node_deleted=True\n",
    "        elif  self.tail.data==data:\n",
    "            self.tail=self.tail.prev\n",
    "            self.tail.next=None\n",
    "            node_deleted=True\n",
    "        else:\n",
    "            while current:\n",
    "                if current.data==data:\n",
    "                    current.prev.next=current.next\n",
    "                    current.next.prev=current.prev\n",
    "                    node_deleted=True\n",
    "                current =current.next   \n",
    "        if node_deleted:\n",
    "            self.count-=1\n",
    "    def contain(self,data):\n",
    "        current =self.head\n",
    "        while current:\n",
    "            if current.data==data:\n",
    "                return True\n",
    "            current=current.next\n",
    "    def print_list(self):\n",
    "        current=self.head\n",
    "        while current:\n",
    "            print(current.data)\n",
    "            current=current.next        \n",
    "        \n",
    "        \n",
    "        \n",
    "        "
   ]
  },
  {
   "cell_type": "code",
   "execution_count": 119,
   "metadata": {},
   "outputs": [],
   "source": [
    "word2=doublylinkedlist()"
   ]
  },
  {
   "cell_type": "code",
   "execution_count": 120,
   "metadata": {},
   "outputs": [],
   "source": [
    "word2.append(56)"
   ]
  },
  {
   "cell_type": "code",
   "execution_count": 121,
   "metadata": {},
   "outputs": [
    {
     "name": "stdout",
     "output_type": "stream",
     "text": [
      "56\n"
     ]
    }
   ],
   "source": [
    "word2.print_list()"
   ]
  },
  {
   "cell_type": "code",
   "execution_count": 124,
   "metadata": {},
   "outputs": [
    {
     "data": {
      "text/plain": [
       "True"
      ]
     },
     "execution_count": 124,
     "metadata": {},
     "output_type": "execute_result"
    }
   ],
   "source": [
    "word2.contain(56)"
   ]
  },
  {
   "cell_type": "code",
   "execution_count": 127,
   "metadata": {},
   "outputs": [],
   "source": [
    "word2.delete(56)"
   ]
  },
  {
   "cell_type": "code",
   "execution_count": 128,
   "metadata": {},
   "outputs": [],
   "source": [
    "words.print_list()"
   ]
  },
  {
   "cell_type": "markdown",
   "metadata": {},
   "source": [
    "#### circular list(last node point back to the first node)"
   ]
  },
  {
   "cell_type": "code",
   "execution_count": 1,
   "metadata": {},
   "outputs": [],
   "source": [
    "class NODE:\n",
    "    def __init__(self,data=None,next=None,prev=None):\n",
    "        self.data=data\n",
    "        self.next=next\n",
    "class circularlinkedlist:\n",
    "    def __init__(self):\n",
    "        self.head=None #pointer of last node\n",
    "        self.tail=None #pointer of first node \n",
    "        self.count=0\n",
    "    def append(self,data):\n",
    "        node=Node(data)\n",
    "        if self.head:\n",
    "            self.head.next=node\n",
    "            self.head=node\n",
    "            self.size+=1\n",
    "        else:\n",
    "            self.tail=node\n",
    "            self.head=node\n",
    "            self.size+=1\n",
    "        self.head.next=self.tail\n",
    "        self.size+=1    \n",
    "        "
   ]
  }
 ],
 "metadata": {
  "kernelspec": {
   "display_name": "Python 3",
   "language": "python",
   "name": "python3"
  },
  "language_info": {
   "codemirror_mode": {
    "name": "ipython",
    "version": 3
   },
   "file_extension": ".py",
   "mimetype": "text/x-python",
   "name": "python",
   "nbconvert_exporter": "python",
   "pygments_lexer": "ipython3",
   "version": "3.7.6"
  }
 },
 "nbformat": 4,
 "nbformat_minor": 4
}
