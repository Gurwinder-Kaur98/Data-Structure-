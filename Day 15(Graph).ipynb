{
 "cells": [
  {
   "cell_type": "markdown",
   "metadata": {},
   "source": [
    "### Graphs"
   ]
  },
  {
   "cell_type": "code",
   "execution_count": 1,
   "metadata": {},
   "outputs": [],
   "source": [
    "class Graphs:\n",
    "    def __init__(self,edges):\n",
    "        self.edges=edges\n",
    "        self.graph_dict={}\n",
    "        for start, end in self.edges:\n",
    "            if start in self.graph_dict:\n",
    "                self.graph_dict[start].append(end)\n",
    "            else:\n",
    "                self.graph_dict[start]=[end] \n",
    "        print(self.graph_dict) \n",
    "     "
   ]
  },
  {
   "cell_type": "code",
   "execution_count": 42,
   "metadata": {},
   "outputs": [],
   "source": [
    "def get_paths(self,start,end,path=[]):\n",
    "        path=path +[start]\n",
    "        if start == end:\n",
    "            return [path]\n",
    "        if start not in self.graph_dict:\n",
    "            return []\n",
    "        paths=[]\n",
    "        for node in self.graph_dict[start]:\n",
    "            if node not in path:\n",
    "                new_paths=self.get_paths(node,end,path)\n",
    "                for p in new_paths:\n",
    "                    paths.append(p)\n",
    "        return paths             \n",
    "    "
   ]
  },
  {
   "cell_type": "code",
   "execution_count": 43,
   "metadata": {},
   "outputs": [],
   "source": [
    "def get_shortest1_path(self,start,end,path=[]):\n",
    "        path=path+[start]\n",
    "        if start not in self.graph_dict:\n",
    "            return None\n",
    "        if start == end:\n",
    "            return [path]\n",
    "        shortest_path=None\n",
    "        for node in self.graph_dict[start]:\n",
    "            if node not in path:\n",
    "                sp=self.get_shortest1_path(node,end,path)\n",
    "                if sp:\n",
    "                    if shortest_path is None or len(sp)<=len(shortest_path):\n",
    "                        shortest_path=sp\n",
    "        return  shortest_path                             "
   ]
  },
  {
   "cell_type": "markdown",
   "metadata": {},
   "source": [
    "combined functions Graph"
   ]
  },
  {
   "cell_type": "code",
   "execution_count": 44,
   "metadata": {},
   "outputs": [],
   "source": [
    "class Graphs:\n",
    "    def __init__(self,edges):\n",
    "        self.edges=edges\n",
    "        self.graph_dict={}\n",
    "        for start, end in self.edges:\n",
    "            if start in self.graph_dict:\n",
    "                self.graph_dict[start].append(end)\n",
    "            else:\n",
    "                self.graph_dict[start]=[end] \n",
    "        print(self.graph_dict) \n",
    "    def get_paths(self,start,end,path=[]):\n",
    "        path=path +[start]\n",
    "        if start == end:\n",
    "            return [path]\n",
    "        if start not in self.graph_dict:\n",
    "            return []\n",
    "        paths=[]\n",
    "        for node in self.graph_dict[start]:\n",
    "            if node not in path:\n",
    "                new_paths=self.get_paths(node,end,path)\n",
    "                for p in new_paths:\n",
    "                    paths.append(p)\n",
    "        return paths             \n",
    "    def get_shortest1_path(self,start,end,path=[]):\n",
    "        path=path+[start]\n",
    "        if start not in self.graph_dict:\n",
    "            return None\n",
    "        if start == end:\n",
    "            return [path]\n",
    "        shortest_path=None\n",
    "        for node in self.graph_dict[start]:\n",
    "            if node not in path:\n",
    "                sp=self.get_shortest1_path(node,end,path)\n",
    "                if sp:\n",
    "                    if shortest_path is None or len(sp) <= len(shortest_path):\n",
    "                        shortest_path=sp\n",
    "        return  shortest_path                             "
   ]
  },
  {
   "cell_type": "code",
   "execution_count": 38,
   "metadata": {},
   "outputs": [],
   "source": [
    "routes=[\n",
    "    ('Mumbai','Paris'),\n",
    "    ('Mumbai','Dubai'),\n",
    "    ('Paris','Dubai'),\n",
    "    ('Paris','Newyork'),\n",
    "    ('Dubai','Newyork'),\n",
    "    ('Newyork','Toronto')]\n"
   ]
  },
  {
   "cell_type": "code",
   "execution_count": 39,
   "metadata": {},
   "outputs": [
    {
     "name": "stdout",
     "output_type": "stream",
     "text": [
      "{'Mumbai': ['Paris', 'Dubai'], 'Paris': ['Dubai', 'Newyork'], 'Dubai': ['Newyork'], 'Newyork': ['Toronto']}\n"
     ]
    }
   ],
   "source": [
    "routes_graph=Graphs(routes)"
   ]
  },
  {
   "cell_type": "code",
   "execution_count": 40,
   "metadata": {},
   "outputs": [
    {
     "name": "stdout",
     "output_type": "stream",
     "text": [
      "Paths between Paris and Newyork: [['Paris', 'Dubai', 'Newyork'], ['Paris', 'Newyork']]\n"
     ]
    }
   ],
   "source": [
    "start='Paris'\n",
    "end='Newyork'\n",
    "print(f\"Paths between {start} and {end}:\",format(routes_graph.get_paths(start,end)) )"
   ]
  },
  {
   "cell_type": "code",
   "execution_count": 41,
   "metadata": {},
   "outputs": [
    {
     "name": "stdout",
     "output_type": "stream",
     "text": [
      "Shortest Paths between Paris and Newyork: [['Paris', 'Newyork']]\n"
     ]
    }
   ],
   "source": [
    "start='Paris'\n",
    "end='Newyork'\n",
    "print(f\"Shortest Paths between {start} and {end}:\",format(routes_graph.get_shortest1_path(start,end)) )"
   ]
  }
 ],
 "metadata": {
  "kernelspec": {
   "display_name": "Python 3",
   "language": "python",
   "name": "python3"
  },
  "language_info": {
   "codemirror_mode": {
    "name": "ipython",
    "version": 3
   },
   "file_extension": ".py",
   "mimetype": "text/x-python",
   "name": "python",
   "nbconvert_exporter": "python",
   "pygments_lexer": "ipython3",
   "version": "3.7.6"
  }
 },
 "nbformat": 4,
 "nbformat_minor": 4
}
