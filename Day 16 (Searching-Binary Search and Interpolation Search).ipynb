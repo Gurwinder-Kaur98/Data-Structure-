{
 "cells": [
  {
   "cell_type": "markdown",
   "metadata": {},
   "source": [
    "## searching"
   ]
  },
  {
   "cell_type": "markdown",
   "metadata": {},
   "source": [
    "### Binary search\n",
    "\n",
    "A binary search is a search strategy used to find elements within a list by consistently\n",
    "reducing the amount of data to be searched and thereby increasing the rate at which the\n",
    "search term is found.\n",
    "\n",
    "To use a binary search algorithm, the list to be operated on must have already been sorted.\n"
   ]
  },
  {
   "cell_type": "code",
   "execution_count": 47,
   "metadata": {},
   "outputs": [],
   "source": [
    "def binary_search(sorted_list,num_find):\n",
    "    size=len(sorted_list)-1\n",
    "    index_of_1st_ele=0\n",
    "    index_of_last_ele=size\n",
    "    mid_index=0\n",
    "    while index_of_1st_ele <= index_of_last_ele:\n",
    "        mid_index=(index_of_1st_ele+index_of_last_ele)//2\n",
    "        if sorted_list[mid_index] ==num_find:\n",
    "            return mid_index\n",
    "        if sorted_list[mid_index]<num_find:\n",
    "            index_of_1st_ele=mid_index+1\n",
    "        else:\n",
    "            index_of_last_ele=mid_index-1\n",
    "    if index_of_1st_ele > index_of_last_ele:\n",
    "         return None\n",
    "    \n",
    "        "
   ]
  },
  {
   "cell_type": "code",
   "execution_count": 48,
   "metadata": {},
   "outputs": [],
   "source": [
    "numbers=[12,15,17,20,21,25,30,70]\n",
    "num_find=70\n"
   ]
  },
  {
   "cell_type": "code",
   "execution_count": 49,
   "metadata": {},
   "outputs": [
    {
     "name": "stdout",
     "output_type": "stream",
     "text": [
      "7\n"
     ]
    }
   ],
   "source": [
    "index=binary_search(numbers,num_find)\n",
    "print(index)"
   ]
  },
  {
   "cell_type": "code",
   "execution_count": 50,
   "metadata": {},
   "outputs": [],
   "source": [
    "def binary_search2(sorted_list,num_find,index_of_1st_ele,index_of_last_ele):\n",
    "    if index_of_1st_ele > index_of_last_ele:\n",
    "         return None\n",
    "    else:    \n",
    "        mid_index=index_of_1st_ele+((index_of_last_ele-index_of_1st_ele)//2)\n",
    "        if sorted_list[mid_index]<num_find:\n",
    "            return binary_search2(sorted_list,num_find,mid_index+1,index_of_last_ele)\n",
    "        elif sorted_list[mid_index]>num_find:\n",
    "            return binary_search2(sorted_list,num_find,index_of_1st_ele,mid_index-1)\n",
    "        else:\n",
    "            return mid_index\n",
    "    \n",
    "        "
   ]
  },
  {
   "cell_type": "code",
   "execution_count": 51,
   "metadata": {},
   "outputs": [
    {
     "name": "stdout",
     "output_type": "stream",
     "text": [
      "7\n"
     ]
    }
   ],
   "source": [
    "index=binary_search2(numbers,num_find,1,8)\n",
    "print(index)"
   ]
  },
  {
   "cell_type": "markdown",
   "metadata": {},
   "source": [
    "## Interpolation Search"
   ]
  },
  {
   "cell_type": "markdown",
   "metadata": {},
   "source": [
    "In interpolation search, our midpoint is swayed more to the left or right. This is caused by\n",
    "the effect of the multiplier used when dividing to obtain the midpoint"
   ]
  },
  {
   "cell_type": "code",
   "execution_count": 52,
   "metadata": {},
   "outputs": [],
   "source": [
    "def _nearest_mid(sorted_list,num_find,l_bound_index,u_bound_index):\n",
    "    return round(l_bound_index+((u_bound_index-l_bound_index)/(sorted_list[u_bound_index]-sorted_list[l_bound_index]))*(num_find-sorted_list[l_bound_index]))"
   ]
  },
  {
   "cell_type": "code",
   "execution_count": 53,
   "metadata": {},
   "outputs": [],
   "source": [
    "def interpolation_search(sorted_list,item):\n",
    "    size=len(sorted_list)-1\n",
    "    l_bound_index=0\n",
    "    u_bound_index=size\n",
    "    while l_bound_index<=u_bound_index:\n",
    "        mid_point=_nearest_mid(sorted_list,item,l_bound_index,u_bound_index)\n",
    "        if mid_point>u_bound_index or mid_point<l_bound_index:\n",
    "            return None\n",
    "        if sorted_list[mid_point]==item:\n",
    "            return mid_point\n",
    "        if sorted_list[mid_point]>item:\n",
    "            u_bound_index=mid_point-1\n",
    "        else:\n",
    "            l_bound_index=mid_point+1\n",
    "    if l_bound_index>u_bound_index :\n",
    "        return None\n",
    "        "
   ]
  },
  {
   "cell_type": "code",
   "execution_count": 54,
   "metadata": {},
   "outputs": [
    {
     "name": "stdout",
     "output_type": "stream",
     "text": [
      "0\n"
     ]
    }
   ],
   "source": [
    "index=interpolation_search([ 2, 4, 5, 12, 43, 54, 60, 77],2)\n",
    "print(index)"
   ]
  },
  {
   "cell_type": "code",
   "execution_count": null,
   "metadata": {},
   "outputs": [],
   "source": []
  }
 ],
 "metadata": {
  "kernelspec": {
   "display_name": "Python 3",
   "language": "python",
   "name": "python3"
  },
  "language_info": {
   "codemirror_mode": {
    "name": "ipython",
    "version": 3
   },
   "file_extension": ".py",
   "mimetype": "text/x-python",
   "name": "python",
   "nbconvert_exporter": "python",
   "pygments_lexer": "ipython3",
   "version": "3.7.6"
  }
 },
 "nbformat": 4,
 "nbformat_minor": 4
}
