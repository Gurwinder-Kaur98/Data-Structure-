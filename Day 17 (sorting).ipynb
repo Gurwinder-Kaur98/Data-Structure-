{
 "cells": [
  {
   "cell_type": "markdown",
   "metadata": {},
   "source": [
    "## Sorting"
   ]
  },
  {
   "cell_type": "markdown",
   "metadata": {},
   "source": [
    "####  Bubble sort\n",
    "\n",
    "#### Insertion sort\n",
    "\n",
    "#### Selection sort\n",
    "\n",
    "#### Quick sort\n",
    "\n",
    "#### Heap sort"
   ]
  },
  {
   "cell_type": "markdown",
   "metadata": {},
   "source": [
    "# 1. Bubble Sort"
   ]
  },
  {
   "cell_type": "code",
   "execution_count": 54,
   "metadata": {},
   "outputs": [],
   "source": [
    "def bubble_sort(unsorted_list):\n",
    "    iteration_num=len(unsorted_list)-1\n",
    "    swaped=False\n",
    "    for j in  range(iteration_num):\n",
    "        for i in range(iteration_num-j):\n",
    "            if unsorted_list[i]>unsorted_list[i+1]:\n",
    "                temp=unsorted_list[i]\n",
    "                unsorted_list[i]=unsorted_list[i+1]\n",
    "                unsorted_list[i+1]=temp\n",
    "                swaped=True\n",
    "        print(unsorted_list)        \n",
    "        if swaped==False:\n",
    "            return print('list is already sorted')\n",
    "    "
   ]
  },
  {
   "cell_type": "code",
   "execution_count": 55,
   "metadata": {},
   "outputs": [
    {
     "name": "stdout",
     "output_type": "stream",
     "text": [
      "[1, 5, 9, 10, 52, 0, 2, 71]\n",
      "[1, 5, 9, 10, 0, 2, 52, 71]\n",
      "[1, 5, 9, 0, 2, 10, 52, 71]\n",
      "[1, 5, 0, 2, 9, 10, 52, 71]\n",
      "[1, 0, 2, 5, 9, 10, 52, 71]\n",
      "[0, 1, 2, 5, 9, 10, 52, 71]\n",
      "[0, 1, 2, 5, 9, 10, 52, 71]\n"
     ]
    }
   ],
   "source": [
    "elem=[1,5,10,9,71,52,0,2]\n",
    "bubble_sort(elem)\n"
   ]
  },
  {
   "cell_type": "code",
   "execution_count": 56,
   "metadata": {},
   "outputs": [
    {
     "name": "stdout",
     "output_type": "stream",
     "text": [
      "[0, 1, 2, 5, 9, 10, 52, 71]\n"
     ]
    }
   ],
   "source": [
    "print(elem)"
   ]
  },
  {
   "cell_type": "code",
   "execution_count": 57,
   "metadata": {},
   "outputs": [
    {
     "name": "stdout",
     "output_type": "stream",
     "text": [
      "[1, 5, 9, 10, 52, 0, 2, 71]\n",
      "[1, 5, 9, 10, 0, 2, 52, 71]\n",
      "[1, 5, 9, 0, 2, 10, 52, 71]\n",
      "[1, 5, 0, 2, 9, 10, 52, 71]\n",
      "[1, 0, 2, 5, 9, 10, 52, 71]\n",
      "[0, 1, 2, 5, 9, 10, 52, 71]\n",
      "[0, 1, 2, 5, 9, 10, 52, 71]\n",
      "[0, 1, 2, 5, 9, 10, 52, 71]\n",
      "\n",
      "[0, 1, 2, 5, 9, 10, 52, 71]\n",
      "list is already sorted\n",
      "[0, 1, 2, 5, 9, 10, 52, 71]\n",
      "\n",
      "['a', 'c', 'b', 'e', 'f']\n",
      "['a', 'b', 'c', 'e', 'f']\n",
      "['a', 'b', 'c', 'e', 'f']\n",
      "['a', 'b', 'c', 'e', 'f']\n",
      "['a', 'b', 'c', 'e', 'f']\n",
      "\n",
      "['a', 'b', 'c', 'c', 'e']\n",
      "list is already sorted\n"
     ]
    },
    {
     "data": {
      "text/plain": [
       "['a', 'b', 'c', 'c', 'e']"
      ]
     },
     "execution_count": 57,
     "metadata": {},
     "output_type": "execute_result"
    }
   ],
   "source": [
    "elem=[1,5,10,9,71,52,0,2]\n",
    "bubble_sort(elem)\n",
    "print(elem)\n",
    "print()\n",
    "\n",
    "ele=[0, 1, 2, 5, 9, 10, 52, 71]\n",
    "bubble_sort(ele)\n",
    "print(ele)\n",
    "print()\n",
    "\n",
    "\n",
    "ele2=['a','c','e','b','f']\n",
    "bubble_sort(ele2)\n",
    "print(ele2)\n",
    "print()\n",
    "\n",
    "\n",
    "ele3=['a', 'b', 'c', 'c', 'e']\n",
    "bubble_sort(ele3)\n",
    "ele3\n"
   ]
  },
  {
   "cell_type": "code",
   "execution_count": 58,
   "metadata": {},
   "outputs": [],
   "source": [
    "def bubble_sort2(unsorted_list,key):\n",
    "    iteration_num=len(unsorted_list)-1\n",
    "    swaped=False\n",
    "    for j in  range(iteration_num):\n",
    "        for i in range(iteration_num-j):\n",
    "            if unsorted_list[i][key]>unsorted_list[i+1][key]:\n",
    "                temp=unsorted_list[i]\n",
    "                unsorted_list[i]=unsorted_list[i+1]\n",
    "                unsorted_list[i+1]=temp\n",
    "                swaped=True\n",
    "        if swaped==False:\n",
    "            return print('list is already sorted')\n",
    "    "
   ]
  },
  {
   "cell_type": "code",
   "execution_count": 59,
   "metadata": {},
   "outputs": [],
   "source": [
    "dic=[{\"name\":'g','gen':2016},\n",
    "     {\"name\":'k','gen':2011},\n",
    "     {\"name\":'a','gen':2000},\n",
    "     {\"name\":'x','gen':2001}\n",
    "    ]\n",
    "     "
   ]
  },
  {
   "cell_type": "code",
   "execution_count": 60,
   "metadata": {},
   "outputs": [
    {
     "data": {
      "text/plain": [
       "[{'name': 'g', 'gen': 2016},\n",
       " {'name': 'k', 'gen': 2011},\n",
       " {'name': 'a', 'gen': 2000},\n",
       " {'name': 'x', 'gen': 2001}]"
      ]
     },
     "execution_count": 60,
     "metadata": {},
     "output_type": "execute_result"
    }
   ],
   "source": [
    "dic"
   ]
  },
  {
   "cell_type": "code",
   "execution_count": 61,
   "metadata": {},
   "outputs": [
    {
     "data": {
      "text/plain": [
       "[{'name': 'a', 'gen': 2000},\n",
       " {'name': 'x', 'gen': 2001},\n",
       " {'name': 'k', 'gen': 2011},\n",
       " {'name': 'g', 'gen': 2016}]"
      ]
     },
     "execution_count": 61,
     "metadata": {},
     "output_type": "execute_result"
    }
   ],
   "source": [
    "bubble_sort2(dic,'gen')\n",
    "dic"
   ]
  },
  {
   "cell_type": "markdown",
   "metadata": {},
   "source": [
    "# 2.Insertion Sort"
   ]
  },
  {
   "cell_type": "code",
   "execution_count": 62,
   "metadata": {},
   "outputs": [],
   "source": [
    "def insertion_sort(unsorted_list):\n",
    "    for i in range(1,len(unsorted_list)):\n",
    "        insert_val=unsorted_list[i]\n",
    "        ptr=i\n",
    "        while ptr>0 and unsorted_list[ptr-1]>insert_val:\n",
    "            unsorted_list[ptr]=unsorted_list[ptr-1]\n",
    "            ptr=ptr-1\n",
    "        print(unsorted_list)    \n",
    "            \n",
    "        unsorted_list[ptr]=insert_val \n",
    "       "
   ]
  },
  {
   "cell_type": "code",
   "execution_count": 63,
   "metadata": {},
   "outputs": [
    {
     "name": "stdout",
     "output_type": "stream",
     "text": [
      "[1, 5, 10, 9, 71, 52, 0, 2]\n",
      "[1, 5, 10, 9, 71, 52, 0, 2]\n",
      "[1, 5, 10, 10, 71, 52, 0, 2]\n",
      "[1, 5, 9, 10, 71, 52, 0, 2]\n",
      "[1, 5, 9, 10, 71, 71, 0, 2]\n",
      "[1, 1, 5, 9, 10, 52, 71, 2]\n",
      "[0, 1, 5, 5, 9, 10, 52, 71]\n"
     ]
    }
   ],
   "source": [
    "elem=[1,5,10,9,71,52,0,2]\n",
    "insertion_sort(elem)"
   ]
  },
  {
   "cell_type": "code",
   "execution_count": 64,
   "metadata": {},
   "outputs": [
    {
     "name": "stdout",
     "output_type": "stream",
     "text": [
      "sorted list is  [0, 1, 2, 5, 9, 10, 52, 71]\n"
     ]
    }
   ],
   "source": [
    "print('sorted list is ',format(elem))"
   ]
  },
  {
   "cell_type": "markdown",
   "metadata": {},
   "source": [
    "# 3.Selection Sort"
   ]
  },
  {
   "cell_type": "markdown",
   "metadata": {},
   "source": [
    "Another popular sorting algorithm is the selection sort. This sorting algorithm is simple to\n",
    "understand, yet also inefficient, with its worst and best asymptotic values being O(n\n",
    "2\n",
    "). It\n",
    "begins by finding the smallest element in an array and interchanging it with data at, for\n",
    "instance, array index [0]. The same operation is done a second time; however, the smallest\n",
    "element in the remainder of the list after finding the first smallest element is interchanged\n",
    "with the data at index [1]."
   ]
  },
  {
   "cell_type": "code",
   "execution_count": 65,
   "metadata": {},
   "outputs": [],
   "source": [
    "def selection_sort(unsorted_list):\n",
    "    iteration_num=len(unsorted_list)\n",
    "    swap=False\n",
    "    for i in  range(iteration_num):\n",
    "        for j in range(i+1,iteration_num):\n",
    "            if unsorted_list[i]>unsorted_list[j]:\n",
    "                temp=unsorted_list[i]\n",
    "                unsorted_list[i]=unsorted_list[j]\n",
    "                unsorted_list[j]=temp\n",
    "                swap=True\n",
    "        if swap==False:\n",
    "            return print('Already Sorted ')\n",
    "        print(unsorted_list)\n",
    "                \n",
    "        "
   ]
  },
  {
   "cell_type": "code",
   "execution_count": 66,
   "metadata": {},
   "outputs": [
    {
     "name": "stdout",
     "output_type": "stream",
     "text": [
      "[0, 5, 10, 9, 71, 52, 1, 2]\n",
      "[0, 1, 10, 9, 71, 52, 5, 2]\n",
      "[0, 1, 2, 10, 71, 52, 9, 5]\n",
      "[0, 1, 2, 5, 71, 52, 10, 9]\n",
      "[0, 1, 2, 5, 9, 71, 52, 10]\n",
      "[0, 1, 2, 5, 9, 10, 71, 52]\n",
      "[0, 1, 2, 5, 9, 10, 52, 71]\n",
      "[0, 1, 2, 5, 9, 10, 52, 71]\n",
      "[0, 1, 2, 5, 9, 10, 52, 71]\n"
     ]
    }
   ],
   "source": [
    "lis=[1,5,10,9,71,52,0,2]\n",
    "selection_sort(lis)\n",
    "print(lis)"
   ]
  },
  {
   "cell_type": "code",
   "execution_count": 67,
   "metadata": {},
   "outputs": [
    {
     "name": "stdout",
     "output_type": "stream",
     "text": [
      "[0, 1, 2, 5, 9, 10, 52, 71]\n"
     ]
    }
   ],
   "source": [
    "print(lis)"
   ]
  },
  {
   "cell_type": "code",
   "execution_count": 68,
   "metadata": {},
   "outputs": [
    {
     "name": "stdout",
     "output_type": "stream",
     "text": [
      "Already Sorted \n"
     ]
    }
   ],
   "source": [
    "lis=[1,5,10,71]\n",
    "selection_sort(lis)\n"
   ]
  },
  {
   "cell_type": "markdown",
   "metadata": {},
   "source": [
    "# 4. Quick Sort"
   ]
  },
  {
   "cell_type": "markdown",
   "metadata": {},
   "source": [
    "The quick sort algorithm falls under the divide and conquer class of algorithms, where we\n",
    "break (divide) a problem into smaller chunks that are much simpler to solve (conquer). In\n",
    "this case, an unsorted array is broken into sub-arrays that are partially sorted, until all\n",
    "elements in the list are in the right position, by which time our unsorted list will have\n",
    "become sorted."
   ]
  }
 ],
 "metadata": {
  "kernelspec": {
   "display_name": "Python 3",
   "language": "python",
   "name": "python3"
  },
  "language_info": {
   "codemirror_mode": {
    "name": "ipython",
    "version": 3
   },
   "file_extension": ".py",
   "mimetype": "text/x-python",
   "name": "python",
   "nbconvert_exporter": "python",
   "pygments_lexer": "ipython3",
   "version": "3.7.6"
  }
 },
 "nbformat": 4,
 "nbformat_minor": 4
}
