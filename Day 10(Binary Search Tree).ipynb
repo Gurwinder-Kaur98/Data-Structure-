{
 "cells": [
  {
   "cell_type": "markdown",
   "metadata": {},
   "source": [
    "Tree"
   ]
  },
  {
   "cell_type": "code",
   "execution_count": 3,
   "metadata": {},
   "outputs": [],
   "source": [
    "class Node:\n",
    "    def __init__(self,data):\n",
    "        self.data=data\n",
    "        self.left_child=None\n",
    "        self.right_child=None\n",
    "        \n",
    "        "
   ]
  },
  {
   "cell_type": "code",
   "execution_count": 4,
   "metadata": {},
   "outputs": [],
   "source": [
    "n1 = Node(\"root node\")\n",
    "n2 = Node(\"left child node\")\n",
    "n3 = Node(\"right child node\")\n",
    "n4 = Node(\"left grandchild node\")"
   ]
  },
  {
   "cell_type": "code",
   "execution_count": 5,
   "metadata": {},
   "outputs": [],
   "source": [
    "n1.left_child = n2\n",
    "n1.right_child = n3\n",
    "n2.left_child = n4"
   ]
  },
  {
   "cell_type": "code",
   "execution_count": 6,
   "metadata": {},
   "outputs": [
    {
     "name": "stdout",
     "output_type": "stream",
     "text": [
      "root node\n",
      "left child node\n",
      "left grandchild node\n"
     ]
    }
   ],
   "source": [
    "current = n1\n",
    "while current:\n",
    "    print(current.data)\n",
    "    current = current.left_child"
   ]
  },
  {
   "cell_type": "code",
   "execution_count": 7,
   "metadata": {},
   "outputs": [
    {
     "name": "stdout",
     "output_type": "stream",
     "text": [
      "root node\n",
      "right child node\n"
     ]
    }
   ],
   "source": [
    "current = n1\n",
    "while current:\n",
    "    print(current.data)\n",
    "    current = current.right_child"
   ]
  },
  {
   "cell_type": "markdown",
   "metadata": {},
   "source": [
    "BST -Binaray search tree (each node has max two childs)\n",
    "###### For a given node with a value, all the nodes in the left sub-tree are less than or equal to the value of that node. Also, all the nodes in the right sub-tree of this node are greater than that of the parent node."
   ]
  },
  {
   "cell_type": "markdown",
   "metadata": {},
   "source": [
    "#### Binary search tree implementation"
   ]
  },
  {
   "cell_type": "code",
   "execution_count": 8,
   "metadata": {},
   "outputs": [],
   "source": [
    "class Tree:\n",
    "    def __init__(self):\n",
    "        self.root_node =None"
   ]
  },
  {
   "cell_type": "markdown",
   "metadata": {},
   "source": [
    "Finding the minimum and maximum nodes\n"
   ]
  },
  {
   "cell_type": "code",
   "execution_count": 9,
   "metadata": {},
   "outputs": [],
   "source": [
    "def find_min(self):\n",
    "    current=self.root_node\n",
    "    while current.left_node:\n",
    "        current=current.left_node\n",
    "    return current    "
   ]
  },
  {
   "cell_type": "code",
   "execution_count": 10,
   "metadata": {},
   "outputs": [],
   "source": [
    "def insert_nodes(data):\n",
    "    node=Node(data)\n",
    "    if self.root_node is None:\n",
    "        self.root_node=node\n",
    "    else:\n",
    "        current=self.root_node\n",
    "        parent=None\n",
    "        while True:\n",
    "            parent=current\n",
    "            if node.data<current.data:\n",
    "                current=current.left_node\n",
    "                if current is None:\n",
    "                    parent.left_node=node\n",
    "                    return\n",
    "            else:\n",
    "                current=current.right_node\n",
    "                if current is None:\n",
    "                    parent.right_node=node\n",
    "                    return\n",
    "                    \n",
    "                \n",
    "            \n",
    "        \n",
    "        \n",
    "        "
   ]
  },
  {
   "cell_type": "markdown",
   "metadata": {},
   "source": [
    "Deleting nodes\n",
    "--- \n",
    "having no children\n",
    "-\n",
    "having one children\n",
    "-\n",
    "having two children\n",
    "-\n",
    "\n",
    "\n"
   ]
  },
  {
   "cell_type": "markdown",
   "metadata": {},
   "source": [
    "Our node class does not have reference to a parent. As such, we need to use a helper\n",
    "method to search for and return the node with its parent node"
   ]
  },
  {
   "cell_type": "code",
   "execution_count": 11,
   "metadata": {},
   "outputs": [],
   "source": [
    "def get_node_with_parent(self, data):\n",
    "    curent=self.root_node\n",
    "    parent=0\n",
    "    if current.data is None:\n",
    "        return(parent,none)\n",
    "    while True:\n",
    "        if current.data== data:\n",
    "            return (parent,current)\n",
    "        elif current.data>data:\n",
    "            parent=current\n",
    "            current=current.right_node\n",
    "        else:\n",
    "            parent=current\n",
    "            current=current.left_node\n",
    "    return (parent,current)         \n",
    "            "
   ]
  },
  {
   "cell_type": "code",
   "execution_count": 18,
   "metadata": {},
   "outputs": [],
   "source": [
    "def delete_node(self,data):\n",
    "    (parent,node)=self.get_node_with_parent(data)\n",
    "    if parent is None and node is None:\n",
    "        return False\n",
    "    children_count=0\n",
    "    if (node.left_node is None) and (node.right_node is None):\n",
    "        children_count=0\n",
    "    elif node.left_node and node.right_node:\n",
    "        children_count=2\n",
    "    else:\n",
    "        children_count=1\n",
    "    if children_count==0:\n",
    "        if parent:\n",
    "            if parent.left_node==data:\n",
    "                parent.left_node=None\n",
    "            else:\n",
    "                parent.right_node=None\n",
    "        else:\n",
    "            self.root_node=None\n",
    "    if children_count==1:\n",
    "        next_node=None\n",
    "        if node.left_node:\n",
    "            next_node=node.left_node\n",
    "        else:\n",
    "            next_node=node.right_node\n",
    "        if parent:\n",
    "            if node.left_node is node:\n",
    "                parent.left_node=next_node\n",
    "            else:\n",
    "                parent.right_node=next_node\n",
    "        else:\n",
    "            self.root_node=next_node\n",
    "                \n",
    "    else:\n",
    "        parent_of_leftmost_node=node\n",
    "        leftmost_node=node.right_node\n",
    "        while leftmost_node.left_node:\n",
    "            parent_of_leftmost_node=leftmost_node\n",
    "            leftmost_node=leftmost_node.left_node\n",
    "            \n",
    "        node.data=leftmost_node.data\n",
    "        if parent_of_leftmost_node.left_node==leftmost_node:\n",
    "            parent_of_leftmost_node.left_node=leftmost_node.right_node\n",
    "        else:\n",
    "            parent_of_leftmost_node.right_node=leftmost_node.right_node\n",
    "            \n",
    "        \n",
    "            \n",
    "            \n",
    "                       "
   ]
  },
  {
   "cell_type": "markdown",
   "metadata": {},
   "source": [
    "searching the tree"
   ]
  },
  {
   "cell_type": "code",
   "execution_count": 23,
   "metadata": {},
   "outputs": [],
   "source": [
    "def search_tree(self,data):\n",
    "    current=self.root_node\n",
    "    while True:\n",
    "        if current is None:\n",
    "            return None\n",
    "        elif current.data==data:\n",
    "            return data\n",
    "        elif current.data>data:\n",
    "            current=current.right_node\n",
    "        else:\n",
    "            current=current.left_node\n",
    "            "
   ]
  },
  {
   "cell_type": "markdown",
   "metadata": {},
   "source": [
    "complete tree"
   ]
  },
  {
   "cell_type": "code",
   "execution_count": 97,
   "metadata": {},
   "outputs": [],
   "source": [
    "class Node:\n",
    "    def __init__(self,data):\n",
    "        self.data=data\n",
    "        self.left_node=None\n",
    "        self.right_node=None\n",
    "class Tree:\n",
    "    def __init__(self):\n",
    "        self.root_node=None\n",
    "    def find_min(self):\n",
    "        if self.root_node is None:\n",
    "            return print('empty')\n",
    "        else:\n",
    "            current=self.root_node\n",
    "            while current.left_node:\n",
    "                current=current.left_node\n",
    "            return current.data        \n",
    "    def insert_nodes(self,data):\n",
    "        node=Node(data)\n",
    "        if self.root_node is None:\n",
    "            self.root_node=node\n",
    "        else:\n",
    "            current=self.root_node\n",
    "            parent=None\n",
    "            while True:\n",
    "                parent=current\n",
    "                if data<current.data:\n",
    "                    current=current.left_node\n",
    "                    if current is None:\n",
    "                        parent.left_node=node\n",
    "                        return\n",
    "                else:\n",
    "                    current=current.right_node\n",
    "                    if current is None:\n",
    "                        parent.right_node=node\n",
    "                        return\n",
    "    def get_node_with_parent(self, data):\n",
    "        parent=None\n",
    "        current=self.root_node\n",
    "        if current is None:\n",
    "            return (parent,None)\n",
    "        if current.data==data:\n",
    "            return (parent,current)\n",
    "        while True:\n",
    "            if current.data== data:\n",
    "                return (parent,current)\n",
    "            elif current.data > data:\n",
    "                parent=current\n",
    "                current=current.right_node\n",
    "            else:\n",
    "                parent=current\n",
    "                current=current.left_node\n",
    "        return (parent,current)         \n",
    "    def delete_node(self,data):\n",
    "        parent,node=self.get_node_with_parent(data)\n",
    "        if parent is None and node is None:\n",
    "            return False\n",
    "        children_count=0\n",
    "        if (node.left_node is None) and (node.right_node is None):\n",
    "            children_count=0\n",
    "        elif node.left_node and node.right_node:\n",
    "            children_count=2\n",
    "        else:\n",
    "            children_count=1\n",
    "        if children_count==0:\n",
    "            if parent:\n",
    "                if parent.left_node==data:\n",
    "                    parent.left_node=None\n",
    "                else:\n",
    "                    parent.right_node=None\n",
    "            else:\n",
    "                self.root_node=None\n",
    "        elif children_count==1:\n",
    "            next_node=None\n",
    "            if node.left_node:\n",
    "                next_node=node.left_node\n",
    "            else:\n",
    "                next_node=node.right_node\n",
    "            if parent:\n",
    "                if node.left_node is node:\n",
    "                    parent.left_node=next_node\n",
    "                else:\n",
    "                    parent.right_node=next_node\n",
    "            else:\n",
    "                self.root_node=next_node\n",
    "                \n",
    "        else:\n",
    "            parent_of_leftmost_node=node\n",
    "            leftmost_node=node.right_node\n",
    "            while leftmost_node.left_node:\n",
    "                parent_of_leftmost_node=leftmost_node\n",
    "                leftmost_node=leftmost_node.left_node\n",
    "            \n",
    "            node.data=leftmost_node.data\n",
    "            if parent_of_leftmost_node.left_node==leftmost_node:\n",
    "                parent_of_leftmost_node.left_node=leftmost_node.right_node\n",
    "            else:\n",
    "                parent_of_leftmost_node.right_node=leftmost_node.right_node\n",
    "    def search_tree(self,data):\n",
    "        current=self.root_node\n",
    "        while True:\n",
    "            if current is None:\n",
    "                return None\n",
    "            elif current.data==data:\n",
    "                return current.data\n",
    "            elif current.data>data:\n",
    "                current=current.right_node\n",
    "            else:\n",
    "                current=current.left_node\n",
    "    def inorder(self):\n",
    "        element=[]\n",
    "        current=self.root_node\n",
    "        if current.left_node:\n",
    "            element+=current.left_node.inorder()\n",
    "        element.append(current.data)\n",
    "        if current.right_node:\n",
    "            element+=current.right_node.inorder()\n",
    "        return element \n",
    "    def print_tree_inorder(self):\n",
    "        if self.root_node:\n",
    "            self._print_tree(self.root_node)\n",
    "    def _print_tree(self,cur_node):\n",
    "        if cur_node:\n",
    "            self._print_tree(cur_node.left_node)\n",
    "            print(cur_node.data)\n",
    "            self._print_tree(cur_node.right_node)\n",
    "        "
   ]
  },
  {
   "cell_type": "code",
   "execution_count": 98,
   "metadata": {},
   "outputs": [],
   "source": [
    "tree=Tree()"
   ]
  },
  {
   "cell_type": "code",
   "execution_count": 99,
   "metadata": {},
   "outputs": [],
   "source": [
    "tree.insert_nodes(9)\n",
    "tree.insert_nodes(5)\n"
   ]
  },
  {
   "cell_type": "code",
   "execution_count": 100,
   "metadata": {},
   "outputs": [
    {
     "data": {
      "text/plain": [
       "9"
      ]
     },
     "execution_count": 100,
     "metadata": {},
     "output_type": "execute_result"
    }
   ],
   "source": [
    "tree.search_tree(9)"
   ]
  },
  {
   "cell_type": "code",
   "execution_count": 101,
   "metadata": {},
   "outputs": [
    {
     "name": "stdout",
     "output_type": "stream",
     "text": [
      "5\n",
      "9\n"
     ]
    }
   ],
   "source": [
    "tree.print_tree_inorder()"
   ]
  },
  {
   "cell_type": "code",
   "execution_count": 102,
   "metadata": {},
   "outputs": [
    {
     "data": {
      "text/plain": [
       "5"
      ]
     },
     "execution_count": 102,
     "metadata": {},
     "output_type": "execute_result"
    }
   ],
   "source": [
    "tree.find_min()"
   ]
  },
  {
   "cell_type": "code",
   "execution_count": 103,
   "metadata": {},
   "outputs": [],
   "source": [
    "tree.delete_node(9)"
   ]
  },
  {
   "cell_type": "code",
   "execution_count": 104,
   "metadata": {},
   "outputs": [
    {
     "name": "stdout",
     "output_type": "stream",
     "text": [
      "5\n"
     ]
    }
   ],
   "source": [
    "tree.print_tree_inorder()"
   ]
  }
 ],
 "metadata": {
  "kernelspec": {
   "display_name": "Python 3",
   "language": "python",
   "name": "python3"
  },
  "language_info": {
   "codemirror_mode": {
    "name": "ipython",
    "version": 3
   },
   "file_extension": ".py",
   "mimetype": "text/x-python",
   "name": "python",
   "nbconvert_exporter": "python",
   "pygments_lexer": "ipython3",
   "version": "3.7.6"
  }
 },
 "nbformat": 4,
 "nbformat_minor": 4
}
