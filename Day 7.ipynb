{
 "cells": [
  {
   "cell_type": "code",
   "execution_count": 28,
   "metadata": {},
   "outputs": [],
   "source": [
    "numbers=[12,15,17,19,15]\n",
    "num_to_find=15\n"
   ]
  },
  {
   "cell_type": "markdown",
   "metadata": {},
   "source": [
    "find the  first index of an element in a list"
   ]
  },
  {
   "cell_type": "code",
   "execution_count": 21,
   "metadata": {},
   "outputs": [],
   "source": [
    "def linear_search(numbers,num_to_find):\n",
    "    for index,ele in enumerate(numbers):\n",
    "        if ele == num_to_find:\n",
    "             return index\n",
    "             "
   ]
  },
  {
   "cell_type": "code",
   "execution_count": 29,
   "metadata": {},
   "outputs": [
    {
     "data": {
      "text/plain": [
       "1"
      ]
     },
     "execution_count": 29,
     "metadata": {},
     "output_type": "execute_result"
    }
   ],
   "source": [
    "linear_search(numbers,num_to_find)"
   ]
  },
  {
   "cell_type": "markdown",
   "metadata": {},
   "source": [
    "find all the index of  a number in a list"
   ]
  },
  {
   "cell_type": "code",
   "execution_count": 32,
   "metadata": {},
   "outputs": [],
   "source": [
    "def linear_search1(numbers,num_to_find):\n",
    "    for index,ele in enumerate(numbers):\n",
    "        if ele == num_to_find:\n",
    "            print(index,end=' ')\n",
    "        if index==len(numbers)-1:\n",
    "            break \n",
    "            "
   ]
  },
  {
   "cell_type": "code",
   "execution_count": 33,
   "metadata": {},
   "outputs": [
    {
     "name": "stdout",
     "output_type": "stream",
     "text": [
      "1 4 "
     ]
    }
   ],
   "source": [
    "linear_search1(numbers,num_to_find)"
   ]
  },
  {
   "cell_type": "markdown",
   "metadata": {},
   "source": [
    " Use Bubble Sort to find an index of a number\n",
    " #### But we need sorted list for that"
   ]
  },
  {
   "cell_type": "code",
   "execution_count": 34,
   "metadata": {},
   "outputs": [],
   "source": [
    "def binary_search(num,num_find):\n",
    "    left_index=0\n",
    "    right_index=len(num)\n",
    "    mid_index=0\n",
    "    while left_index < right_index:\n",
    "        mid_index=(left_index+right_index)//2\n",
    "        mid_number=num[mid_index]\n",
    "        if mid_number==num_find:\n",
    "            return mid_index\n",
    "        if mid_number<num_find:\n",
    "            left_index=mid_index+1\n",
    "        else:\n",
    "            right_index=mid_index-1 \n",
    "        "
   ]
  },
  {
   "cell_type": "code",
   "execution_count": 35,
   "metadata": {},
   "outputs": [],
   "source": [
    "numbers=[12,15,17,20,21,25,30,70]\n",
    "num_to_find=70\n"
   ]
  },
  {
   "cell_type": "code",
   "execution_count": 36,
   "metadata": {},
   "outputs": [],
   "source": [
    "index=binary_search(numbers,num_to_find)"
   ]
  },
  {
   "cell_type": "code",
   "execution_count": 37,
   "metadata": {},
   "outputs": [
    {
     "name": "stdout",
     "output_type": "stream",
     "text": [
      "7\n"
     ]
    }
   ],
   "source": [
    "print(index)"
   ]
  },
  {
   "cell_type": "code",
   "execution_count": 38,
   "metadata": {},
   "outputs": [],
   "source": [
    "def binary_search(num,num_find,left_index,right_index):\n",
    "    mid_index=(left_index+right_index)//2\n",
    "    mid_number=num[mid_index]\n",
    "    if mid_number==num_find:\n",
    "        return mid_index\n",
    "    if mid_number<num_find:\n",
    "        left_index=mid_index+1\n",
    "    else:\n",
    "        right_index=mid_index-1\n",
    "    return binary_search(num,num_find,left_index,right_index)    \n"
   ]
  },
  {
   "cell_type": "code",
   "execution_count": 39,
   "metadata": {},
   "outputs": [],
   "source": [
    "index=binary_search(numbers,30,3,7)"
   ]
  },
  {
   "cell_type": "code",
   "execution_count": 40,
   "metadata": {},
   "outputs": [
    {
     "data": {
      "text/plain": [
       "6"
      ]
     },
     "execution_count": 40,
     "metadata": {},
     "output_type": "execute_result"
    }
   ],
   "source": [
    "index"
   ]
  },
  {
   "cell_type": "markdown",
   "metadata": {},
   "source": [
    "#### sorting using bubble sort"
   ]
  },
  {
   "cell_type": "code",
   "execution_count": 41,
   "metadata": {},
   "outputs": [],
   "source": [
    "def bubble_sort(element):\n",
    "    swaped=False\n",
    "    for j in  range(len(element)-1):\n",
    "        for i in range(len(element)-1):\n",
    "            if element[i]>element[i+1]:\n",
    "                temp=element[i]\n",
    "                element[i]=element[i+1]\n",
    "                element[i+1]=temp\n",
    "                swaped=True\n",
    "        if swaped==False:\n",
    "            return print('already sorted')\n",
    "    "
   ]
  },
  {
   "cell_type": "code",
   "execution_count": 42,
   "metadata": {},
   "outputs": [
    {
     "name": "stdout",
     "output_type": "stream",
     "text": [
      "[0, 1, 5, 9, 10, 20, 52, 71]\n",
      "['a', 'b', 'c', 'c', 'e']\n"
     ]
    }
   ],
   "source": [
    "elem=[1,5,10,9,71,52,0,20]\n",
    "ele2=['a','c','e','b','c']\n",
    "bubble_sort(ele2)\n",
    "bubble_sort(elem)\n",
    "\n",
    "print(elem)\n",
    "print(ele2)"
   ]
  },
  {
   "cell_type": "code",
   "execution_count": 45,
   "metadata": {},
   "outputs": [],
   "source": [
    "a=[1,2,3,4]\n",
    "b=[5,6,7,8]\n"
   ]
  },
  {
   "cell_type": "markdown",
   "metadata": {},
   "source": [
    "### merge sort of sorted list"
   ]
  },
  {
   "cell_type": "code",
   "execution_count": 46,
   "metadata": {},
   "outputs": [],
   "source": [
    "def merge_sort_of_sorting_arrays(a,b):\n",
    "    len_a=len(a)\n",
    "    len_b=len(b)\n",
    "    i=j=0\n",
    "    arr=[]\n",
    "    while i< len_a and j< len_b:\n",
    "        if a[i] <= b[j]:\n",
    "            arr.append(a[i])\n",
    "            i=i+1\n",
    "        else:\n",
    "            arr.append(b[j])\n",
    "            j=j+1\n",
    "    while i< len_a:\n",
    "        arr.append(a[i])\n",
    "        i=i+1\n",
    "    while j<len_b:\n",
    "        arr.append(b[j])\n",
    "        j=j+1\n",
    "    return arr    \n",
    "        \n",
    "        \n",
    "        "
   ]
  },
  {
   "cell_type": "code",
   "execution_count": 47,
   "metadata": {},
   "outputs": [
    {
     "data": {
      "text/plain": [
       "[1, 2, 3, 4, 5, 6, 7, 8]"
      ]
     },
     "execution_count": 47,
     "metadata": {},
     "output_type": "execute_result"
    }
   ],
   "source": [
    "merge_sort_of_sorting_arrays(a,b)"
   ]
  },
  {
   "cell_type": "markdown",
   "metadata": {},
   "source": [
    "### sorting of list through merge list"
   ]
  },
  {
   "cell_type": "code",
   "execution_count": 48,
   "metadata": {},
   "outputs": [],
   "source": [
    "def merge_sort(a):\n",
    "    if len(a)<=1:\n",
    "        return a\n",
    "    mid= len(a)//2\n",
    "    left=a[:mid]\n",
    "    right=a[mid:]\n",
    "    left=merge_sort(left)\n",
    "    right=merge_sort(right)\n",
    "    return merge_sort_of_sorting_arrays(left,right)\n",
    "        "
   ]
  },
  {
   "cell_type": "code",
   "execution_count": 49,
   "metadata": {},
   "outputs": [
    {
     "data": {
      "text/plain": [
       "[12, 15, 17, 20, 21, 25, 30, 70]"
      ]
     },
     "execution_count": 49,
     "metadata": {},
     "output_type": "execute_result"
    }
   ],
   "source": [
    "merge_sort([12,15,17,20,21,25,30,70])"
   ]
  },
  {
   "cell_type": "code",
   "execution_count": null,
   "metadata": {},
   "outputs": [],
   "source": []
  }
 ],
 "metadata": {
  "kernelspec": {
   "display_name": "Python 3",
   "language": "python",
   "name": "python3"
  },
  "language_info": {
   "codemirror_mode": {
    "name": "ipython",
    "version": 3
   },
   "file_extension": ".py",
   "mimetype": "text/x-python",
   "name": "python",
   "nbconvert_exporter": "python",
   "pygments_lexer": "ipython3",
   "version": "3.7.6"
  }
 },
 "nbformat": 4,
 "nbformat_minor": 4
}
