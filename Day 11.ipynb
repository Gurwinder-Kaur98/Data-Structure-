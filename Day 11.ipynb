{
 "cells": [
  {
   "cell_type": "markdown",
   "metadata": {},
   "source": [
    "Breadth first traversal"
   ]
  },
  {
   "cell_type": "markdown",
   "metadata": {},
   "source": [
    "previously made tree with one more funtion called as breadth_first_tree"
   ]
  },
  {
   "cell_type": "code",
   "execution_count": 28,
   "metadata": {},
   "outputs": [],
   "source": [
    "class Node:\n",
    "    def __init__(self,data):\n",
    "        self.data=data\n",
    "        self.left_node=None\n",
    "        self.right_node=None\n",
    "class Tree:\n",
    "    def __init__(self):\n",
    "        self.root_node=None\n",
    "    def find_min(self):\n",
    "        if self.root_node is None:\n",
    "            return print('empty')\n",
    "        else:\n",
    "            current=self.root_node\n",
    "            while current.left_node:\n",
    "                current=current.left_node\n",
    "            return current.data        \n",
    "    def insert_nodes(self,data):\n",
    "        node=Node(data)\n",
    "        if self.root_node is None:\n",
    "            self.root_node=node\n",
    "        else:\n",
    "            current=self.root_node\n",
    "            parent=None\n",
    "            while True:\n",
    "                parent=current\n",
    "                if data<current.data:\n",
    "                    current=current.left_node\n",
    "                    if current is None:\n",
    "                        parent.left_node=node\n",
    "                        return\n",
    "                else:\n",
    "                    current=current.right_node\n",
    "                    if current is None:\n",
    "                        parent.right_node=node\n",
    "                        return\n",
    "    def get_node_with_parent(self, data):\n",
    "        parent=None\n",
    "        current=self.root_node\n",
    "        if current is None:\n",
    "            return (parent,None)\n",
    "        if current.data==data:\n",
    "            return (parent,current)\n",
    "        while True:\n",
    "            if current.data== data:\n",
    "                return (parent,current)\n",
    "            elif current.data > data:\n",
    "                parent=current\n",
    "                current=current.right_node\n",
    "            else:\n",
    "                parent=current\n",
    "                current=current.left_node\n",
    "        return (parent,current)         \n",
    "    def delete_node(self,data):\n",
    "        parent,node=self.get_node_with_parent(data)\n",
    "        if parent is None and node is None:\n",
    "            return False\n",
    "        children_count=0\n",
    "        if (node.left_node is None) and (node.right_node is None):\n",
    "            children_count=0\n",
    "        elif node.left_node and node.right_node:\n",
    "            children_count=2\n",
    "        else:\n",
    "            children_count=1\n",
    "        if children_count==0:\n",
    "            if parent:\n",
    "                if parent.left_node==data:\n",
    "                    parent.left_node=None\n",
    "                else:\n",
    "                    parent.right_node=None\n",
    "            else:\n",
    "                self.root_node=None\n",
    "        elif children_count==1:\n",
    "            next_node=None\n",
    "            if node.left_node:\n",
    "                next_node=node.left_node\n",
    "            else:\n",
    "                next_node=node.right_node\n",
    "            if parent:\n",
    "                if node.left_node is node:\n",
    "                    parent.left_node=next_node\n",
    "                else:\n",
    "                    parent.right_node=next_node\n",
    "            else:\n",
    "                self.root_node=next_node\n",
    "                \n",
    "        else:\n",
    "            parent_of_leftmost_node=node\n",
    "            leftmost_node=node.right_node\n",
    "            while leftmost_node.left_node:\n",
    "                parent_of_leftmost_node=leftmost_node\n",
    "                leftmost_node=leftmost_node.left_node\n",
    "            \n",
    "            node.data=leftmost_node.data\n",
    "            if parent_of_leftmost_node.left_node==leftmost_node:\n",
    "                parent_of_leftmost_node.left_node=leftmost_node.right_node\n",
    "            else:\n",
    "                parent_of_leftmost_node.right_node=leftmost_node.right_node\n",
    "    def search_tree(self,data):\n",
    "        current=self.root_node\n",
    "        while True:\n",
    "            if current is None:\n",
    "                return None\n",
    "            elif current.data==data:\n",
    "                return current.data\n",
    "            elif current.data>data:\n",
    "                current=current.right_node\n",
    "            else:\n",
    "                current=current.left_node\n",
    "    def print_tree(self):\n",
    "        a=int(input('enter 1 for inorder traversal'''\n",
    "                    ''' enter 2 for preorder traversal'''\n",
    "                   ''' enter 3 for postorder traversal'''))\n",
    "        if self.root_node:\n",
    "            if a==1:  \n",
    "                self._print_tree_inorder(self.root_node)\n",
    "            elif a==2:\n",
    "                self._print_tree_preorder(self.root_node)\n",
    "            elif a==3:\n",
    "                self._print_tree_postorder(self.root_node) \n",
    "            else:\n",
    "                print('you have entered wrong number')\n",
    "    def _print_tree_inorder(self,cur_node):\n",
    "        if cur_node:\n",
    "            self._print_tree_inorder(cur_node.left_node)\n",
    "            print(cur_node.data)\n",
    "            self._print_tree_inorder(cur_node.right_node)\n",
    "    def _print_tree_preorder(self,cur_node): # prefix notation or polish notation\n",
    "        if cur_node:\n",
    "            print(cur_node.data)\n",
    "            self._print_tree_preorder(cur_node.left_node)\n",
    "            self._print_tree_preorder(cur_node.right_node)\n",
    "    def _print_tree_postorder(self,cur_node):      # post fix or reverse polish notation\n",
    "        if cur_node:\n",
    "            self._print_tree_postorder(cur_node.left_node)\n",
    "            self._print_tree_postorder(cur_node.right_node)\n",
    "            print(cur_node.data)\n",
    "    def breadth_first_traversal(self):\n",
    "        from collections import deque\n",
    "        lis_of_nodes=[]\n",
    "        traversal_queue=deque([self.root_node])\n",
    "        while len(traversal_queue)>0:\n",
    "            node=traversal_queue.popleft()\n",
    "            lis_of_nodes.append(node.data)\n",
    "            if node.left_node:\n",
    "                traversal_queue.append(node.left_node)\n",
    "            if node.right_node:\n",
    "                traversal_queue.append(node.right_node)\n",
    "        return lis_of_nodes        \n",
    "            "
   ]
  },
  {
   "cell_type": "code",
   "execution_count": 42,
   "metadata": {},
   "outputs": [],
   "source": [
    "from collections import deque\n",
    "class tree():\n",
    "    def breadth_first_traversal(self):\n",
    "        lis_of_nodes=[]\n",
    "        traversal_queue=deque([self.root_node])\n",
    "        while len(traversal_queue)>0:\n",
    "            node=traversal_queue.popleft()\n",
    "            lis_of_nodes.append(node)\n",
    "            if node.left_node:\n",
    "                traversal_queue.append(node.left_node)\n",
    "            if node.right_node:\n",
    "                traversal_queue.append(node.right_node)\n",
    "        return lis_of_nodes        \n",
    "        \n",
    "    "
   ]
  },
  {
   "cell_type": "code",
   "execution_count": 60,
   "metadata": {},
   "outputs": [],
   "source": [
    "tree=Tree()\n"
   ]
  },
  {
   "cell_type": "code",
   "execution_count": 61,
   "metadata": {},
   "outputs": [],
   "source": [
    "tree.insert_nodes(5)\n",
    "tree.insert_nodes(15)\n",
    "tree.insert_nodes(2000)\n",
    "tree.insert_nodes(52)\n",
    "tree.insert_nodes(115)\n",
    "tree.insert_nodes(35)\n",
    "\n",
    "tree.insert_nodes(1999)\n",
    "tree.insert_nodes(20001)"
   ]
  },
  {
   "cell_type": "code",
   "execution_count": 62,
   "metadata": {},
   "outputs": [
    {
     "name": "stdout",
     "output_type": "stream",
     "text": [
      "enter 1 for inorder traversal enter 2 for preorder traversal enter 3 for postorder traversal2\n",
      "5\n",
      "15\n",
      "2000\n",
      "52\n",
      "35\n",
      "115\n",
      "1999\n",
      "20001\n"
     ]
    }
   ],
   "source": [
    "\n",
    "tree.print_tree()"
   ]
  },
  {
   "cell_type": "code",
   "execution_count": 63,
   "metadata": {},
   "outputs": [
    {
     "data": {
      "text/plain": [
       "[5, 15, 2000, 52, 20001, 35, 115, 1999]"
      ]
     },
     "execution_count": 63,
     "metadata": {},
     "output_type": "execute_result"
    }
   ],
   "source": [
    "tree.breadth_first_traversal()"
   ]
  },
  {
   "cell_type": "code",
   "execution_count": 53,
   "metadata": {},
   "outputs": [],
   "source": [
    "d=deque()\n"
   ]
  },
  {
   "cell_type": "code",
   "execution_count": 36,
   "metadata": {},
   "outputs": [],
   "source": [
    "d.append(5)"
   ]
  },
  {
   "cell_type": "code",
   "execution_count": 37,
   "metadata": {},
   "outputs": [
    {
     "data": {
      "text/plain": [
       "deque([5])"
      ]
     },
     "execution_count": 37,
     "metadata": {},
     "output_type": "execute_result"
    }
   ],
   "source": [
    "d\n"
   ]
  },
  {
   "cell_type": "code",
   "execution_count": 39,
   "metadata": {},
   "outputs": [],
   "source": [
    "d.append(35)"
   ]
  },
  {
   "cell_type": "code",
   "execution_count": 40,
   "metadata": {},
   "outputs": [
    {
     "data": {
      "text/plain": [
       "deque([5, 35, 35])"
      ]
     },
     "execution_count": 40,
     "metadata": {},
     "output_type": "execute_result"
    }
   ],
   "source": [
    "d"
   ]
  },
  {
   "cell_type": "code",
   "execution_count": 41,
   "metadata": {},
   "outputs": [
    {
     "data": {
      "text/plain": [
       "5"
      ]
     },
     "execution_count": 41,
     "metadata": {},
     "output_type": "execute_result"
    }
   ],
   "source": [
    "d.popleft()"
   ]
  },
  {
   "cell_type": "code",
   "execution_count": null,
   "metadata": {},
   "outputs": [],
   "source": []
  }
 ],
 "metadata": {
  "kernelspec": {
   "display_name": "Python 3",
   "language": "python",
   "name": "python3"
  },
  "language_info": {
   "codemirror_mode": {
    "name": "ipython",
    "version": 3
   },
   "file_extension": ".py",
   "mimetype": "text/x-python",
   "name": "python",
   "nbconvert_exporter": "python",
   "pygments_lexer": "ipython3",
   "version": "3.7.6"
  }
 },
 "nbformat": 4,
 "nbformat_minor": 4
}
