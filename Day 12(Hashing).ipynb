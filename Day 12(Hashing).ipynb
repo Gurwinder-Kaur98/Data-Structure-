{
 "cells": [
  {
   "cell_type": "markdown",
   "metadata": {},
   "source": [
    "Need of dictionaries"
   ]
  },
  {
   "cell_type": "code",
   "execution_count": 165,
   "metadata": {},
   "outputs": [
    {
     "name": "stdout",
     "output_type": "stream",
     "text": [
      "23\n"
     ]
    }
   ],
   "source": [
    "stock_prices=[['march',310],\n",
    "              ['april',450],\n",
    "              ['may',89],\n",
    "              ['june',23]]\n",
    "for element in stock_prices:\n",
    "    if element[0]=='june':\n",
    "        print(element[1])\n",
    "        \n",
    "#to find a price based on month ,using list its having complexity O(n)         "
   ]
  },
  {
   "cell_type": "code",
   "execution_count": 163,
   "metadata": {},
   "outputs": [],
   "source": [
    "#dictionaries provides complexity O(1)\n",
    "stock_prices={'march':310,\n",
    "              'april':450,\n",
    "              'may':89,\n",
    "              'june':23}"
   ]
  },
  {
   "cell_type": "code",
   "execution_count": 164,
   "metadata": {},
   "outputs": [
    {
     "data": {
      "text/plain": [
       "23"
      ]
     },
     "execution_count": 164,
     "metadata": {},
     "output_type": "execute_result"
    }
   ],
   "source": [
    "stock_prices['june']"
   ]
  },
  {
   "cell_type": "markdown",
   "metadata": {},
   "source": [
    "### Hashing in Python\n",
    "Hashing is the concept of converting data of arbitrary size into data of fixed size. A little bit\n",
    "more specifically, we are going to use this to turn strings (or possibly other data types) into\n",
    "integers."
   ]
  },
  {
   "cell_type": "markdown",
   "metadata": {},
   "source": [
    "## A hash table\n",
    " is a form of list where elements are accessed by a keyword rather than an\n",
    "index number."
   ]
  },
  {
   "cell_type": "code",
   "execution_count": 167,
   "metadata": {},
   "outputs": [],
   "source": [
    "class Hash_items:\n",
    "    def __init__(self,key,value):\n",
    "        self.key=key\n",
    "        self.value=value\n",
    "class hash_Table:\n",
    "    def __init__(self):\n",
    "        self.size=10\n",
    "        self.slot=[ None for i in range (self.size)]\n",
    "        self.count=0\n",
    "    def _hash(self,key):# this fun will give each string a unique hash value\n",
    "        h=0\n",
    "        m=1\n",
    "        for ch in key:\n",
    "            h+=ord(ch)*m\n",
    "            m+=1\n",
    "        return  h%self.size  \n",
    "    def put(self,key,value): \n",
    "        item=Hash_items(key,value)\n",
    "        h=self._hash(key)\n",
    "        if self.slot[h] is None:\n",
    "            self.count+=1\n",
    "            self.slot[h]=item\n",
    "\n",
    "        while self.slot[h] is not None:\n",
    "            if self.slot[h].key is key:\n",
    "                break\n",
    "            h=(h+1)%self.size \n",
    "    def get(self,key):\n",
    "        h=self._hash(key)\n",
    "        while self.slot[h] is not None:\n",
    "            if self.slot[h].key is key:\n",
    "                return self.slot[h].value\n",
    "            h=(h+1)%self.size  \n",
    "        return None     \n",
    "            \n",
    "    "
   ]
  },
  {
   "cell_type": "code",
   "execution_count": 168,
   "metadata": {},
   "outputs": [],
   "source": [
    "ht = hash_Table()\n",
    "ht.put(\"good\", \"eggs\")\n",
    "ht.put(\"better\", \"ham\")\n",
    "ht.put(\"best\", \"spam\")\n",
    "ht.put(\"ad\", \"do not\")\n"
   ]
  },
  {
   "cell_type": "code",
   "execution_count": 169,
   "metadata": {},
   "outputs": [
    {
     "name": "stdout",
     "output_type": "stream",
     "text": [
      "eggs\n",
      "ham\n",
      "spam\n",
      "None\n",
      "do not\n",
      "None\n"
     ]
    }
   ],
   "source": [
    "ht.put(\"ga\", \"collide\")\n",
    "for key in (\"good\", \"better\", \"best\", \"worst\", \"ad\", \"ga\"):\n",
    "    v = ht.get(key)\n",
    "    print(v)\n",
    "    \n",
    "    "
   ]
  },
  {
   "cell_type": "code",
   "execution_count": 170,
   "metadata": {},
   "outputs": [
    {
     "data": {
      "text/plain": [
       "[None,\n",
       " <__main__.Hash_items at 0x1fc8eb4aa48>,\n",
       " None,\n",
       " None,\n",
       " None,\n",
       " None,\n",
       " None,\n",
       " <__main__.Hash_items at 0x1fc8eb4acc8>,\n",
       " <__main__.Hash_items at 0x1fc8eb4a8c8>,\n",
       " <__main__.Hash_items at 0x1fc8eb4ab48>]"
      ]
     },
     "execution_count": 170,
     "metadata": {},
     "output_type": "execute_result"
    }
   ],
   "source": [
    "ht.slot"
   ]
  },
  {
   "cell_type": "markdown",
   "metadata": {},
   "source": [
    "Using [] with the hash table\n"
   ]
  },
  {
   "cell_type": "code",
   "execution_count": 171,
   "metadata": {},
   "outputs": [],
   "source": [
    "def __setitem__(self,key,value):\n",
    "    self.put(key,value)\n",
    "def __getitem__(self,key):\n",
    "    return self.get(key)\n",
    "    "
   ]
  },
  {
   "cell_type": "code",
   "execution_count": 172,
   "metadata": {},
   "outputs": [],
   "source": [
    "class Hash_items:\n",
    "    def __init__(self,key,value):\n",
    "        self.key=key\n",
    "        self.value=value\n",
    "class hash_Table:\n",
    "    def __init__(self):\n",
    "        self.size=10\n",
    "        self.slot=[ None for i in range (self.size)]\n",
    "        self.count=0\n",
    "    def _hash(self,key):# this fun will give each string a unique hash value\n",
    "        h=0\n",
    "        m=1\n",
    "        for ch in key:\n",
    "            h+=ord(ch)*m\n",
    "            m+=1\n",
    "        return  h%self.size  \n",
    "    def put(self,key,value): \n",
    "        item=Hash_items(key,value)\n",
    "        h=self._hash(key)\n",
    "        while self.slot[h] is not None:\n",
    "            if self.slot[h].key is key:\n",
    "                break\n",
    "            h=(h+1)%self.size \n",
    "        if self.slot[h] is None:\n",
    "            self.count+=1\n",
    "        self.slot[h]=item\n",
    "    def get(self,key):\n",
    "        h=self._hash(key)\n",
    "        while self.slot[h] is not None:\n",
    "            if self.slot[h].key is key:\n",
    "                return self.slot[h].value\n",
    "            h=(h+1)%self.size  \n",
    "        return None     \n",
    "    def __setitem__(self,key,value):\n",
    "        self.put(key,value)\n",
    "    def __getitem__(self,key):\n",
    "        return self.get(key)\n",
    "    def __delitem__(self,key):\n",
    "        h=self._hash(key)\n",
    "        self.slot[h]=None\n",
    "       \n",
    "            \n",
    "    "
   ]
  },
  {
   "cell_type": "code",
   "execution_count": 173,
   "metadata": {},
   "outputs": [],
   "source": [
    "ht = hash_Table()\n",
    "ht[\"good\"] = \"eggs\"\n",
    "ht[\"better\"] = \"ham\"\n",
    "ht[\"best\"] = \"spam\"\n",
    "ht[\"ad\"] = \"do not\"\n",
    "ht[\"ga\"] = \"collide\""
   ]
  },
  {
   "cell_type": "code",
   "execution_count": 174,
   "metadata": {},
   "outputs": [
    {
     "name": "stdout",
     "output_type": "stream",
     "text": [
      "eggs\n",
      "ham\n",
      "spam\n",
      "None\n",
      "do not\n",
      "collide\n",
      "The number of elements is: 5\n"
     ]
    }
   ],
   "source": [
    "for key in (\"good\", \"better\", \"best\", \"worst\", \"ad\", \"ga\"):\n",
    "    v = ht[key]\n",
    "    print(v)\n",
    "print(\"The number of elements is: {}\".format(ht.count))"
   ]
  },
  {
   "cell_type": "code",
   "execution_count": 175,
   "metadata": {},
   "outputs": [
    {
     "data": {
      "text/plain": [
       "[<__main__.Hash_items at 0x1fc8eb53288>,\n",
       " <__main__.Hash_items at 0x1fc8eb461c8>,\n",
       " None,\n",
       " None,\n",
       " None,\n",
       " None,\n",
       " None,\n",
       " <__main__.Hash_items at 0x1fc8eb53b88>,\n",
       " <__main__.Hash_items at 0x1fc8eb53748>,\n",
       " <__main__.Hash_items at 0x1fc8eb53d88>]"
      ]
     },
     "execution_count": 175,
     "metadata": {},
     "output_type": "execute_result"
    }
   ],
   "source": [
    "ht.slot"
   ]
  },
  {
   "cell_type": "code",
   "execution_count": 176,
   "metadata": {},
   "outputs": [],
   "source": [
    "del ht['ad']"
   ]
  },
  {
   "cell_type": "code",
   "execution_count": 177,
   "metadata": {},
   "outputs": [
    {
     "data": {
      "text/plain": [
       "[<__main__.Hash_items at 0x1fc8eb53288>,\n",
       " <__main__.Hash_items at 0x1fc8eb461c8>,\n",
       " None,\n",
       " None,\n",
       " None,\n",
       " None,\n",
       " None,\n",
       " None,\n",
       " <__main__.Hash_items at 0x1fc8eb53748>,\n",
       " <__main__.Hash_items at 0x1fc8eb53d88>]"
      ]
     },
     "execution_count": 177,
     "metadata": {},
     "output_type": "execute_result"
    }
   ],
   "source": [
    "ht.slot"
   ]
  }
 ],
 "metadata": {
  "kernelspec": {
   "display_name": "Python 3",
   "language": "python",
   "name": "python3"
  },
  "language_info": {
   "codemirror_mode": {
    "name": "ipython",
    "version": 3
   },
   "file_extension": ".py",
   "mimetype": "text/x-python",
   "name": "python",
   "nbconvert_exporter": "python",
   "pygments_lexer": "ipython3",
   "version": "3.7.6"
  }
 },
 "nbformat": 4,
 "nbformat_minor": 4
}
