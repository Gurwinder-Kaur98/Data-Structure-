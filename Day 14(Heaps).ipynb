{
 "cells": [
  {
   "cell_type": "markdown",
   "metadata": {},
   "source": [
    "### Heaps"
   ]
  },
  {
   "cell_type": "markdown",
   "metadata": {},
   "source": [
    "A heap is a data structure that satisfies the heap property. The heap property states that\n",
    "there must be a certain relationship between a parent node and its child nodes. This\n",
    "property must apply through the entire heap.\n",
    "\n",
    "In a min heap, the relationship between parent and children is that the parent must always\n",
    "be less than or equal to its children. As a consequence of this, the lowest element in the heap\n",
    "must be the root node.\n",
    "\n",
    "\n",
    "In a max heap, on the other hand, the parent is greater than or equal to its child or its\n",
    "children. It follows from this that the largest value makes up the root node.\n"
   ]
  },
  {
   "cell_type": "code",
   "execution_count": 89,
   "metadata": {},
   "outputs": [],
   "source": [
    "class Heap:\n",
    "    def __init__(self):\n",
    "        self.size=0\n",
    "        self.heap=[0]\n",
    "    "
   ]
  },
  {
   "cell_type": "markdown",
   "metadata": {},
   "source": [
    "### Inserting"
   ]
  },
  {
   "cell_type": "markdown",
   "metadata": {},
   "source": [
    "in Heaps,we can retrieve the children of any node n very easily. The left child is located at 2n and the right child is located at 2n + 1. This will always hold true."
   ]
  },
  {
   "cell_type": "code",
   "execution_count": 90,
   "metadata": {},
   "outputs": [],
   "source": [
    "def _flot(self,k): # k is self.size\n",
    "    while k//2>0:\n",
    "        if self.heap[k]<self.heap[k//2]:\n",
    "            self.heap[k] ,self.heap[k//2]=self.heap[k//2],self.heap[k] \n",
    "            k=k//2            "
   ]
  },
  {
   "cell_type": "code",
   "execution_count": 91,
   "metadata": {},
   "outputs": [],
   "source": [
    "def insert(self,ele):\n",
    "    self.heap.append(ele)\n",
    "    self.size+=1\n",
    "    self._flot(self.size)\n",
    "   "
   ]
  },
  {
   "cell_type": "markdown",
   "metadata": {},
   "source": [
    "### Pop method"
   ]
  },
  {
   "cell_type": "markdown",
   "metadata": {},
   "source": [
    "Just like insert, pop() is by itself a simple operation. We remove the root node and\n",
    "decrement the size of the heap by one. However, once the root has been popped off, we\n",
    "need a new root node.\n",
    "\n",
    "To make this as simple as possible, we just take the last item in the list and make it the new\n",
    "root. That is, we move it to the beginning of the list. But now we might not have the lowest\n",
    "element at the top of the heap, so we perform the opposite of the float operation: we let the\n",
    "new root node sink down as required."
   ]
  },
  {
   "cell_type": "code",
   "execution_count": 70,
   "metadata": {},
   "outputs": [],
   "source": [
    "def __mini_index(self,k):\n",
    "    if 2*k+1>self.size:\n",
    "        return 2*k\n",
    "    elif self.heap[2*k+1]< self.heap[2*k]:\n",
    "        return 2*k+1\n",
    "    else:\n",
    "        return 2*k\n",
    "    \n",
    "def _sink(self,k):\n",
    "    while k*2<=self.size:\n",
    "        mi=__mini_index(k)\n",
    "        if self.heap[k] > self.heap[mi]:\n",
    "            self.heap[k], self.heap[mi] = self.heap[mi],self.heap[k]\n",
    "            k=mi\n",
    "                \n"
   ]
  },
  {
   "cell_type": "code",
   "execution_count": 72,
   "metadata": {},
   "outputs": [],
   "source": [
    "def pop(self):\n",
    "    item=self.heap[1]\n",
    "    self.heap[1]=self.heap[self.size]\n",
    "    self.size-=1\n",
    "    self.heap.pop()\n",
    "    self._sink(1)\n",
    "    return item"
   ]
  },
  {
   "cell_type": "markdown",
   "metadata": {},
   "source": [
    "## Complete Class of Heap (Min Heap)"
   ]
  },
  {
   "cell_type": "code",
   "execution_count": 92,
   "metadata": {},
   "outputs": [],
   "source": [
    "class Heap:\n",
    "    def __init__(self):\n",
    "        self.size=0\n",
    "        self.heap=[0]\n",
    "    def _flot(self,k): # k is self.size\n",
    "        while k//2>0:\n",
    "            if self.heap[k]<self.heap[k//2]:\n",
    "                self.heap[k],self.heap[k//2]=self.heap[k//2],self.heap[k] \n",
    "                k=k//2\n",
    "            else:\n",
    "                return\n",
    "    def insert(self,ele):\n",
    "        self.heap.append(ele)\n",
    "        self.size+=1\n",
    "        self._flot(self.size)\n",
    "    def __mini_index(self,k):\n",
    "        if 2*k+1>self.size:\n",
    "            return 2*k\n",
    "        elif self.heap[2*k+1]< self.heap[2*k]:\n",
    "            return 2*k+1\n",
    "        else:\n",
    "            return 2*k\n",
    "    \n",
    "    def _sink(self,k):\n",
    "        while k*2<=self.size:\n",
    "            mi=self.__mini_index(k)\n",
    "            if self.heap[k] > self.heap[mi]:\n",
    "                self.heap[k], self.heap[mi] = self.heap[mi],self.heap[k]\n",
    "                k=mi\n",
    "    def pop(self):\n",
    "        item=self.heap[1]\n",
    "        self.heap[1]=self.heap[self.size]\n",
    "        self.size-=1\n",
    "        self.heap.pop()\n",
    "        self._sink(1)\n",
    "        return item            \n",
    "    \n",
    "            \n",
    "    "
   ]
  },
  {
   "cell_type": "code",
   "execution_count": 93,
   "metadata": {},
   "outputs": [],
   "source": [
    "h=Heap()"
   ]
  },
  {
   "cell_type": "code",
   "execution_count": 94,
   "metadata": {},
   "outputs": [],
   "source": [
    "for i in (5,3,2,9,7,6,10):\n",
    "    h.insert(i)\n"
   ]
  },
  {
   "cell_type": "code",
   "execution_count": 95,
   "metadata": {},
   "outputs": [
    {
     "data": {
      "text/plain": [
       "[0, 2, 5, 3, 9, 7, 6, 10]"
      ]
     },
     "execution_count": 95,
     "metadata": {},
     "output_type": "execute_result"
    }
   ],
   "source": [
    "h.heap"
   ]
  },
  {
   "cell_type": "code",
   "execution_count": 96,
   "metadata": {},
   "outputs": [
    {
     "name": "stdout",
     "output_type": "stream",
     "text": [
      "2\n",
      "[0, 3, 5, 6, 9, 7, 10]\n",
      "3\n",
      "[0, 5, 7, 6, 9, 10]\n",
      "5\n",
      "[0, 6, 7, 10, 9]\n",
      "6\n",
      "[0, 7, 9, 10]\n",
      "7\n",
      "[0, 9, 10]\n",
      "9\n",
      "[0, 10]\n"
     ]
    }
   ],
   "source": [
    "for i in range(6):\n",
    "    n = h.pop()\n",
    "    print(n)\n",
    "    print(h.heap)"
   ]
  },
  {
   "cell_type": "markdown",
   "metadata": {},
   "source": [
    "# Use of heap\n",
    "\n",
    "## HEAP : simplest way of finding ith smallest /largest element in list\n",
    "The first element to pop off a min\n",
    "heap is the first-smallest element in the list. Similarly, the seventh element to be popped off\n",
    "the min heap will be the seventh-smallest element in the list. Therefore, to find the ithsmallest element in a list will require us to pop the heap i number of times. That is a very\n",
    "simple and efficient way of finding the ith-smallest element in a list.\n"
   ]
  },
  {
   "cell_type": "code",
   "execution_count": null,
   "metadata": {},
   "outputs": [],
   "source": []
  }
 ],
 "metadata": {
  "kernelspec": {
   "display_name": "Python 3",
   "language": "python",
   "name": "python3"
  },
  "language_info": {
   "codemirror_mode": {
    "name": "ipython",
    "version": 3
   },
   "file_extension": ".py",
   "mimetype": "text/x-python",
   "name": "python",
   "nbconvert_exporter": "python",
   "pygments_lexer": "ipython3",
   "version": "3.7.6"
  }
 },
 "nbformat": 4,
 "nbformat_minor": 4
}
