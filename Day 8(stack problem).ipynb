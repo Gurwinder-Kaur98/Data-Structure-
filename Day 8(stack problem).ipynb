{
 "cells": [
  {
   "cell_type": "markdown",
   "metadata": {},
   "source": [
    "Using Stack to tell wheather the brackets are used correctly ar not!!"
   ]
  },
  {
   "cell_type": "code",
   "execution_count": 1,
   "metadata": {},
   "outputs": [],
   "source": [
    "class Node:\n",
    "    def __init__(self, data=None):\n",
    "        self.data = data\n",
    "        self.next = None\n",
    "\n",
    "class Stack:\n",
    "    def __init__(self):\n",
    "        self.top = None\n",
    "        self.size = 0\n",
    "    def push(self, data):\n",
    "        node = Node(data)\n",
    "        if self.top:\n",
    "            node.next = self.top\n",
    "            self.top = node\n",
    "        else:\n",
    "            self.top = node\n",
    "        self.size += 1\n",
    "    def pop(self):\n",
    "        if self.top:\n",
    "            data = self.top.data\n",
    "            self.size -= 1\n",
    "            if self.top.next:\n",
    "                self.top = self.top.next\n",
    "            else:\n",
    "                self.top = None\n",
    "            return data\n",
    "        else:\n",
    "            return None"
   ]
  },
  {
   "cell_type": "code",
   "execution_count": 57,
   "metadata": {},
   "outputs": [],
   "source": [
    "def check_brackets(statement):\n",
    "    stack = Stack()\n",
    "    for ch in statement:\n",
    "        if ch in ('{', '[', '('):\n",
    "            stack.push(ch)\n",
    "        if ch in ('}', ']', ')'):\n",
    "            last = stack.pop()\n",
    "            if last is '{' and ch is '}':\n",
    "                continue\n",
    "            elif last is '[' and ch is ']':\n",
    "                continue\n",
    "            elif last is '(' and ch is ')':\n",
    "                continue\n",
    "            else:\n",
    "                return False\n",
    "    if stack.size > 0:\n",
    "        return False\n",
    "    else:\n",
    "        return True\n"
   ]
  },
  {
   "cell_type": "code",
   "execution_count": 64,
   "metadata": {},
   "outputs": [
    {
     "data": {
      "text/plain": [
       "True"
      ]
     },
     "execution_count": 64,
     "metadata": {},
     "output_type": "execute_result"
    }
   ],
   "source": [
    "check_brackets('{([])}')"
   ]
  },
  {
   "cell_type": "code",
   "execution_count": 59,
   "metadata": {},
   "outputs": [
    {
     "data": {
      "text/plain": [
       "False"
      ]
     },
     "execution_count": 59,
     "metadata": {},
     "output_type": "execute_result"
    }
   ],
   "source": [
    "check_brackets(\"{(foo)(bar)}[hello](((this)is)a)test))\")\n"
   ]
  },
  {
   "cell_type": "code",
   "execution_count": 60,
   "metadata": {},
   "outputs": [
    {
     "data": {
      "text/plain": [
       "False"
      ]
     },
     "execution_count": 60,
     "metadata": {},
     "output_type": "execute_result"
    }
   ],
   "source": [
    "check_brackets(\"{(foo)(bar)}[hello](((this)is)atest\")"
   ]
  },
  {
   "cell_type": "code",
   "execution_count": null,
   "metadata": {},
   "outputs": [],
   "source": []
  }
 ],
 "metadata": {
  "kernelspec": {
   "display_name": "Python 3",
   "language": "python",
   "name": "python3"
  },
  "language_info": {
   "codemirror_mode": {
    "name": "ipython",
    "version": 3
   },
   "file_extension": ".py",
   "mimetype": "text/x-python",
   "name": "python",
   "nbconvert_exporter": "python",
   "pygments_lexer": "ipython3",
   "version": "3.7.6"
  }
 },
 "nbformat": 4,
 "nbformat_minor": 4
}
