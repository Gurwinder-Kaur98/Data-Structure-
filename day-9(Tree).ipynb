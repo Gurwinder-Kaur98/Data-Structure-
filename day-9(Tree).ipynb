{
 "cells": [
  {
   "cell_type": "code",
   "execution_count": 17,
   "metadata": {},
   "outputs": [],
   "source": [
    "class TreeNode:\n",
    "    def __init__(self,data):\n",
    "        self.data=data\n",
    "        self.children=[]\n",
    "        self.parent=None\n",
    "        \n",
    "    def add_child(self,child):\n",
    "        child.parent=self\n",
    "        self.children.append(child)\n",
    "    def get_level(self):\n",
    "        level=0\n",
    "        p=self.parent\n",
    "        while p:\n",
    "            level+=1\n",
    "            p=p.parent\n",
    "        return level    \n",
    "    def print_tree(self):\n",
    "        spaces=\" \"* self.get_level()*3\n",
    "        if self.parent:\n",
    "            prefix=spaces+'|--'\n",
    "        else:\n",
    "            prefix=''            \n",
    "       \n",
    "        print(prefix+self.data)\n",
    "        if self.children:\n",
    "            for child in self.children:\n",
    "                child.print_tree()"
   ]
  },
  {
   "cell_type": "markdown",
   "metadata": {},
   "source": [
    "Making a tree"
   ]
  },
  {
   "cell_type": "code",
   "execution_count": 18,
   "metadata": {},
   "outputs": [],
   "source": [
    "def build_tree2():\n",
    "    ceo=TreeNode('Nilupal(CEO)')\n",
    "    cto=TreeNode(\"Chinmay(CTO)\")\n",
    "    head=TreeNode('Vishwa(Infrastructure head)')\n",
    "    c_manager=TreeNode('Dhaval(Cloud Manager)')\n",
    "    a_manager=TreeNode('Abhijit(App Manager)')\n",
    "    app_head=TreeNode('Aamir(Application Head)')\n",
    "    hr=TreeNode('Gels(HR Head)')\n",
    "    r_manager=TreeNode('Peter (Recruitment Manager)')\n",
    "    P_manager=TreeNode(\"Waqas (policy Manager)\")\n",
    "    ceo.add_child(cto)\n",
    "    ceo.add_child(hr)\n",
    "    cto.add_child(head)\n",
    "    cto.add_child(app_head)\n",
    "    head.add_child(c_manager)\n",
    "    head.add_child(a_manager)\n",
    "    hr.add_child(r_manager)\n",
    "    hr.add_child(P_manager)\n",
    "    return ceo\n",
    "    \n",
    "    "
   ]
  },
  {
   "cell_type": "code",
   "execution_count": 19,
   "metadata": {},
   "outputs": [],
   "source": [
    "a=build_tree2()"
   ]
  },
  {
   "cell_type": "code",
   "execution_count": 20,
   "metadata": {},
   "outputs": [
    {
     "name": "stdout",
     "output_type": "stream",
     "text": [
      "Nilupal(CEO)\n",
      "   |--Chinmay(CTO)\n",
      "      |--Vishwa(Infrastructure head)\n",
      "         |--Dhaval(Cloud Manager)\n",
      "         |--Abhijit(App Manager)\n",
      "      |--Aamir(Application Head)\n",
      "   |--Gels(HR Head)\n",
      "      |--Peter (Recruitment Manager)\n",
      "      |--Waqas (policy Manager)\n"
     ]
    }
   ],
   "source": [
    "a.print_tree()"
   ]
  }
 ],
 "metadata": {
  "kernelspec": {
   "display_name": "Python 3",
   "language": "python",
   "name": "python3"
  },
  "language_info": {
   "codemirror_mode": {
    "name": "ipython",
    "version": 3
   },
   "file_extension": ".py",
   "mimetype": "text/x-python",
   "name": "python",
   "nbconvert_exporter": "python",
   "pygments_lexer": "ipython3",
   "version": "3.7.6"
  }
 },
 "nbformat": 4,
 "nbformat_minor": 4
}
