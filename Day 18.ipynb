{
 "cells": [
  {
   "cell_type": "markdown",
   "metadata": {},
   "source": [
    "Quick Sort"
   ]
  },
  {
   "cell_type": "code",
   "execution_count": 118,
   "metadata": {},
   "outputs": [],
   "source": [
    "def swap(a,b,arr):\n",
    "    if a !=b:\n",
    "        tmp=arr[a]\n",
    "        arr[a]=arr[b]\n",
    "        arr[b]=tmp\n",
    "def partition(unsorted_list,start,end):\n",
    "    pivot_index=start\n",
    "   \n",
    "    pivot=unsorted_list[pivot_index]\n",
    "    while start<end:\n",
    "        while start<len(unsorted_list)and unsorted_list[start]<=pivot :\n",
    "            start+=1\n",
    "            \n",
    "        while unsorted_list[end]>pivot  :\n",
    "            end-=1\n",
    "        if start<end:\n",
    "            swap(start,end,unsorted_list)\n",
    "    swap(pivot_index,end,unsorted_list)  \n",
    "    return end\n",
    "    \n",
    "def quick_sort(unsorted_array,start,end):\n",
    "    if start<end:\n",
    "        pi=partition(unsorted_array,start,end)\n",
    "        quick_sort(unsorted_array,start,pi-1)\n",
    "        quick_sort(unsorted_array,pi+1,end)\n",
    " \n",
    "\n",
    "\n",
    "        \n",
    "    "
   ]
  },
  {
   "cell_type": "code",
   "execution_count": 119,
   "metadata": {},
   "outputs": [],
   "source": [
    "lis=[11,9,29,7,2,15,28]\n",
    "quick_sort(lis,0,len(lis)-1)"
   ]
  },
  {
   "cell_type": "code",
   "execution_count": 120,
   "metadata": {},
   "outputs": [
    {
     "data": {
      "text/plain": [
       "[2, 7, 9, 11, 15, 28, 29]"
      ]
     },
     "execution_count": 120,
     "metadata": {},
     "output_type": "execute_result"
    }
   ],
   "source": [
    "lis"
   ]
  },
  {
   "cell_type": "markdown",
   "metadata": {},
   "source": [
    "merge sort"
   ]
  },
  {
   "cell_type": "code",
   "execution_count": 152,
   "metadata": {},
   "outputs": [],
   "source": [
    "def merge_two_sorted_lists(a,b,arr):\n",
    "    len_a=len(a)\n",
    "    len_b=len(b)\n",
    "    i=0\n",
    "    j=0\n",
    "    k=0\n",
    "    while i<len_a and j<len_b:\n",
    "        if a[i]<=b[j]:\n",
    "            arr[k]=a[i]\n",
    "            i+=1\n",
    "            \n",
    "        else:\n",
    "            arr[k]=b[j]\n",
    "            j+=1\n",
    "        k+=1\n",
    "    while i<len_a:\n",
    "        arr[k]=a[i]\n",
    "        i+=1\n",
    "        k+=1\n",
    "    while j<len_b:\n",
    "        arr[k]=b[j]\n",
    "        j+=1\n",
    "        k+=1 \n",
    "        \n",
    "def merge_sort(arr):\n",
    "    if len(arr)<=1:\n",
    "        return \n",
    "    mid=len(arr)//2\n",
    "    l=arr[:mid]\n",
    "    r=arr[mid:]\n",
    "    merge_sort(l)\n",
    "    merge_sort(r)\n",
    "    merge_two_sorted_lists(l,r,arr)\n",
    "    \n",
    "            \n",
    "            \n",
    "            \n",
    "            \n",
    "            \n",
    "            \n",
    "        "
   ]
  },
  {
   "cell_type": "code",
   "execution_count": 153,
   "metadata": {},
   "outputs": [],
   "source": [
    "a=[5,10,8,12,1000,56,89]\n",
    "\n",
    "\n",
    "merge_sort(a)"
   ]
  },
  {
   "cell_type": "code",
   "execution_count": 154,
   "metadata": {},
   "outputs": [
    {
     "data": {
      "text/plain": [
       "[5, 8, 10, 12, 56, 89, 1000]"
      ]
     },
     "execution_count": 154,
     "metadata": {},
     "output_type": "execute_result"
    }
   ],
   "source": [
    "a"
   ]
  },
  {
   "cell_type": "code",
   "execution_count": null,
   "metadata": {},
   "outputs": [],
   "source": []
  }
 ],
 "metadata": {
  "kernelspec": {
   "display_name": "Python 3",
   "language": "python",
   "name": "python3"
  },
  "language_info": {
   "codemirror_mode": {
    "name": "ipython",
    "version": 3
   },
   "file_extension": ".py",
   "mimetype": "text/x-python",
   "name": "python",
   "nbconvert_exporter": "python",
   "pygments_lexer": "ipython3",
   "version": "3.7.6"
  }
 },
 "nbformat": 4,
 "nbformat_minor": 4
}
