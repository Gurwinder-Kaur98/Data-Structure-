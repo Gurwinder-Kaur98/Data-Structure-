{
 "cells": [
  {
   "cell_type": "markdown",
   "metadata": {},
   "source": [
    "## problem 1\n",
    "famous poem \"Road not taken\" by poet Robert Frost. You have to read this file in python and print every word and its count as show below. Think about the best data structure that you can use to solve this problem and figure out why you selected that specific data structure.\n",
    "\n",
    "'diverged': 2,\n",
    " 'in': 3,\n",
    " 'I': 8"
   ]
  },
  {
   "cell_type": "code",
   "execution_count": 80,
   "metadata": {},
   "outputs": [],
   "source": [
    "f=open('C:\\\\Users\\\\HP\\\\Downloads\\\\Robert Frost (Road Not Taken.txt','r')"
   ]
  },
  {
   "cell_type": "code",
   "execution_count": 86,
   "metadata": {},
   "outputs": [
    {
     "name": "stdout",
     "output_type": "stream",
     "text": [
      "Two roads diverged in a yellow wood,\n",
      "\n",
      "And sorry I could not travel both\n",
      "\n",
      "And be one traveler, long I stood\n",
      "\n",
      "And looked down one as far as I could\n",
      "\n",
      "To where it bent in the undergrowth;\n",
      "\n",
      "\n",
      "\n",
      "Then took the other, as just as fair,\n",
      "\n",
      "And having perhaps the better claim,\n",
      "\n",
      "Because it was grassy and wanted wear;\n",
      "\n",
      "Though as for that the passing there\n",
      "\n",
      "Had worn them really about the same,\n",
      "\n",
      "\n",
      "\n",
      "And both that morning equally lay\n",
      "\n",
      "In leaves no step had trodden black.\n",
      "\n",
      "Oh, I kept the first for another day!\n",
      "\n",
      "Yet knowing how way leads on to way,\n",
      "\n",
      "I doubted if I should ever come back.\n",
      "\n",
      "\n",
      "\n",
      "I shall be telling this with a sigh\n",
      "\n",
      "Somewhere ages and ages hence:\n",
      "\n",
      "Two roads diverged in a wood, and Iâ€”\n",
      "\n",
      "I took the one less traveled by,\n",
      "\n",
      "And that has made all the difference.\n"
     ]
    }
   ],
   "source": [
    "dic={}\n",
    "with open('C:\\\\Users\\\\HP\\\\Downloads\\\\Robert Frost (Road Not Taken.txt','r') as f:\n",
    "    for line in f:\n",
    "        print(line)\n",
    "        tokens=line.split(' ')\n",
    "        for token in tokens:\n",
    "            token=token.replace('\\n','')\n",
    "            if token in dic:\n",
    "                dic[token]+=1\n",
    "            else:\n",
    "                dic[token]=1\n",
    "    "
   ]
  },
  {
   "cell_type": "code",
   "execution_count": 87,
   "metadata": {},
   "outputs": [
    {
     "data": {
      "text/plain": [
       "{'Two': 2,\n",
       " 'roads': 2,\n",
       " 'diverged': 2,\n",
       " 'in': 3,\n",
       " 'a': 3,\n",
       " 'yellow': 1,\n",
       " 'wood,': 2,\n",
       " 'And': 6,\n",
       " 'sorry': 1,\n",
       " 'I': 8,\n",
       " 'could': 2,\n",
       " 'not': 1,\n",
       " 'travel': 1,\n",
       " 'both': 2,\n",
       " 'be': 2,\n",
       " 'one': 3,\n",
       " 'traveler,': 1,\n",
       " 'long': 1,\n",
       " 'stood': 1,\n",
       " 'looked': 1,\n",
       " 'down': 1,\n",
       " 'as': 5,\n",
       " 'far': 1,\n",
       " 'To': 1,\n",
       " 'where': 1,\n",
       " 'it': 2,\n",
       " 'bent': 1,\n",
       " 'the': 8,\n",
       " 'undergrowth;': 1,\n",
       " '': 3,\n",
       " 'Then': 1,\n",
       " 'took': 2,\n",
       " 'other,': 1,\n",
       " 'just': 1,\n",
       " 'fair,': 1,\n",
       " 'having': 1,\n",
       " 'perhaps': 1,\n",
       " 'better': 1,\n",
       " 'claim,': 1,\n",
       " 'Because': 1,\n",
       " 'was': 1,\n",
       " 'grassy': 1,\n",
       " 'and': 3,\n",
       " 'wanted': 1,\n",
       " 'wear;': 1,\n",
       " 'Though': 1,\n",
       " 'for': 2,\n",
       " 'that': 3,\n",
       " 'passing': 1,\n",
       " 'there': 1,\n",
       " 'Had': 1,\n",
       " 'worn': 1,\n",
       " 'them': 1,\n",
       " 'really': 1,\n",
       " 'about': 1,\n",
       " 'same,': 1,\n",
       " 'morning': 1,\n",
       " 'equally': 1,\n",
       " 'lay': 1,\n",
       " 'In': 1,\n",
       " 'leaves': 1,\n",
       " 'no': 1,\n",
       " 'step': 1,\n",
       " 'had': 1,\n",
       " 'trodden': 1,\n",
       " 'black.': 1,\n",
       " 'Oh,': 1,\n",
       " 'kept': 1,\n",
       " 'first': 1,\n",
       " 'another': 1,\n",
       " 'day!': 1,\n",
       " 'Yet': 1,\n",
       " 'knowing': 1,\n",
       " 'how': 1,\n",
       " 'way': 1,\n",
       " 'leads': 1,\n",
       " 'on': 1,\n",
       " 'to': 1,\n",
       " 'way,': 1,\n",
       " 'doubted': 1,\n",
       " 'if': 1,\n",
       " 'should': 1,\n",
       " 'ever': 1,\n",
       " 'come': 1,\n",
       " 'back.': 1,\n",
       " 'shall': 1,\n",
       " 'telling': 1,\n",
       " 'this': 1,\n",
       " 'with': 1,\n",
       " 'sigh': 1,\n",
       " 'Somewhere': 1,\n",
       " 'ages': 2,\n",
       " 'hence:': 1,\n",
       " 'Iâ€”': 1,\n",
       " 'less': 1,\n",
       " 'traveled': 1,\n",
       " 'by,': 1,\n",
       " 'has': 1,\n",
       " 'made': 1,\n",
       " 'all': 1,\n",
       " 'difference.': 1}"
      ]
     },
     "execution_count": 87,
     "metadata": {},
     "output_type": "execute_result"
    }
   ],
   "source": [
    "dic"
   ]
  },
  {
   "cell_type": "markdown",
   "metadata": {},
   "source": [
    " Write a program that can answer following,\n",
    "What was the temperature on Jan 9?\n",
    "What was the temperature on Jan 4?\n",
    "Figure out data structure that is best for this problem"
   ]
  },
  {
   "cell_type": "code",
   "execution_count": 100,
   "metadata": {},
   "outputs": [],
   "source": [
    "dic={}\n",
    "with open('C:\\\\Users\\\\HP\\\\Documents\\\\temp data.csv') as f:\n",
    "    for line in f:\n",
    "        tokens=line.split(',')\n",
    "        tokens[1]=tokens[1].replace('\\n','')\n",
    "        dic[tokens[0]]=tokens[1]\n",
    "        "
   ]
  },
  {
   "cell_type": "code",
   "execution_count": 101,
   "metadata": {},
   "outputs": [
    {
     "data": {
      "text/plain": [
       "{'date': 'temprature',\n",
       " '01-Jan': '35',\n",
       " '02-Jan': '6',\n",
       " '03-Jan': '47',\n",
       " '04-Jan': '31',\n",
       " '05-Jan': '31',\n",
       " '06-Jan': '29',\n",
       " '07-Jan': '11',\n",
       " '08-Jan': '69',\n",
       " '09-Jan': '22'}"
      ]
     },
     "execution_count": 101,
     "metadata": {},
     "output_type": "execute_result"
    }
   ],
   "source": [
    "dic"
   ]
  },
  {
   "cell_type": "code",
   "execution_count": 102,
   "metadata": {},
   "outputs": [
    {
     "data": {
      "text/plain": [
       "'69'"
      ]
     },
     "execution_count": 102,
     "metadata": {},
     "output_type": "execute_result"
    }
   ],
   "source": [
    "dic['08-Jan']"
   ]
  },
  {
   "cell_type": "markdown",
   "metadata": {},
   "source": [
    "### Linear Probing\n",
    "The collision resolution mechanism we used in our Day 12 code, linear probing, is an example\n",
    "of an open addressing strategy. Linear probing is really simple since we use a fixed interval\n",
    "between our probes. There are other open addressing strategies as well but they all share\n",
    "the idea that there is an array of slots. When we want to insert a key, we check whether the\n",
    "slot already has an item or not. If it does, we look for the next available slot.\n"
   ]
  },
  {
   "cell_type": "markdown",
   "metadata": {},
   "source": [
    "### Chaining\n",
    "but now we will use chaining method .In this method the size of slot is not going increase as in the case of  linear probing."
   ]
  },
  {
   "cell_type": "code",
   "execution_count": 96,
   "metadata": {},
   "outputs": [],
   "source": [
    "class hash_Table:\n",
    "    def __init__(self):\n",
    "        self.size=10\n",
    "        self.slot=[[] for i in range (self.size)]\n",
    "    def _hash(self,key):# this fun will give each string a unique hash value\n",
    "        h=0\n",
    "        for ch in key:\n",
    "            h+=ord(ch)\n",
    "        return  h%self.size  \n",
    "    def __setitem__(self,key,value):\n",
    "        h=self._hash(key)\n",
    "        found=False\n",
    "        for idx,ele in enumerate(self.slot[h]):\n",
    "            if len(ele)==2 and ele[0]==key:\n",
    "                self.slot[h][idx]=(key,value)\n",
    "                found=True\n",
    "                break\n",
    "        if not found:        \n",
    "            self.slot[h].append((key,value))\n",
    "    def __getitem__(self,key):\n",
    "        h=self._hash(key)\n",
    "        for element in self.slot[h]:\n",
    "            if element[0]==key:\n",
    "                return element[1]\n",
    "        return self.slot[h]\n",
    "    def __delitem__(self,key):\n",
    "        h=self._hash(key)\n",
    "        for idx, ele in enumerate(self.slot[h]):\n",
    "            if ele[0]==key:\n",
    "                del  self.slot[h][idx]\n",
    "   "
   ]
  },
  {
   "cell_type": "code",
   "execution_count": 97,
   "metadata": {},
   "outputs": [],
   "source": [
    "ht = hash_Table()\n",
    "ht[\"good\"] = \"eggs\"\n",
    "ht[\"better\"] = \"ham\"\n",
    "ht[\"best\"] = \"spam\"\n",
    "ht[\"ad\"] = \"do not\"\n",
    "ht[\"ga\"] = \"collide\""
   ]
  },
  {
   "cell_type": "code",
   "execution_count": 98,
   "metadata": {},
   "outputs": [
    {
     "data": {
      "text/plain": [
       "'collide'"
      ]
     },
     "execution_count": 98,
     "metadata": {},
     "output_type": "execute_result"
    }
   ],
   "source": [
    "ht['ga']"
   ]
  },
  {
   "cell_type": "code",
   "execution_count": 99,
   "metadata": {},
   "outputs": [],
   "source": [
    "del ht['ga']"
   ]
  },
  {
   "cell_type": "code",
   "execution_count": 100,
   "metadata": {},
   "outputs": [
    {
     "data": {
      "text/plain": [
       "[[('best', 'spam')],\n",
       " [],\n",
       " [],\n",
       " [],\n",
       " [],\n",
       " [('good', 'eggs')],\n",
       " [('better', 'ham')],\n",
       " [('ad', 'do not')],\n",
       " [],\n",
       " []]"
      ]
     },
     "execution_count": 100,
     "metadata": {},
     "output_type": "execute_result"
    }
   ],
   "source": [
    "ht.slot"
   ]
  },
  {
   "cell_type": "code",
   "execution_count": null,
   "metadata": {},
   "outputs": [],
   "source": []
  }
 ],
 "metadata": {
  "kernelspec": {
   "display_name": "Python 3",
   "language": "python",
   "name": "python3"
  },
  "language_info": {
   "codemirror_mode": {
    "name": "ipython",
    "version": 3
   },
   "file_extension": ".py",
   "mimetype": "text/x-python",
   "name": "python",
   "nbconvert_exporter": "python",
   "pygments_lexer": "ipython3",
   "version": "3.7.6"
  }
 },
 "nbformat": 4,
 "nbformat_minor": 4
}
